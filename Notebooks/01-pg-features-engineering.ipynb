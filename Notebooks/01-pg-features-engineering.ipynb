{
 "cells": [
  {
   "cell_type": "code",
   "execution_count": 22,
   "metadata": {
    "collapsed": true,
    "ExecuteTime": {
     "end_time": "2023-08-14T12:45:06.482429900Z",
     "start_time": "2023-08-14T12:45:06.465144100Z"
    }
   },
   "outputs": [],
   "source": [
    "import datetime\n",
    "\n",
    "import pandas as pd\n",
    "import matplotlib.pyplot as plt\n",
    "import numpy as np"
   ]
  },
  {
   "cell_type": "code",
   "execution_count": 23,
   "outputs": [],
   "source": [
    "# Set display options\n",
    "pd.set_option('display.max_columns', None)  # Display all columns\n",
    "pd.set_option('display.max_rows', None)  # Display all rows\n",
    "pd.set_option('display.expand_frame_repr', False)  # Do not wrap DataFrame output"
   ],
   "metadata": {
    "collapsed": false,
    "ExecuteTime": {
     "end_time": "2023-08-14T12:45:06.516249200Z",
     "start_time": "2023-08-14T12:45:06.484429600Z"
    }
   }
  },
  {
   "cell_type": "code",
   "execution_count": 24,
   "outputs": [],
   "source": [
    "# Read the Parquet file into a DataFrame\n",
    "df = pd.read_parquet(r'../Data/Np_cleaned.parquet')"
   ],
   "metadata": {
    "collapsed": false,
    "ExecuteTime": {
     "end_time": "2023-08-14T12:45:06.525494Z",
     "start_time": "2023-08-14T12:45:06.497865700Z"
    }
   }
  },
  {
   "cell_type": "code",
   "execution_count": 25,
   "outputs": [
    {
     "name": "stdout",
     "output_type": "stream",
     "text": [
      "(6501, 26)\n"
     ]
    },
    {
     "data": {
      "text/plain": "TicketNo                       object\nfld_BranchCode                 object\nfld_RegionCode                 object\nfld_AreaCode                   object\nfld_BranchName                 object\nPrincipalAmt                  float64\nLoanDate               datetime64[ns]\nDateCreated            datetime64[ns]\nExpiryDate             datetime64[ns]\nTransStatus                    object\nFormNo                         object\nStorageGroupName               object\nDesignModelName                object\nfld_Weight                    float64\nfld_Karat                      object\nfld_ItemDescription            object\nfld_StorageGroupID             object\nfld_AppraiseValue             float64\nPromoCode                      object\nPromoReason                    object\nInterestNewPrenda             float64\nfld_CustomerNo                 object\nnew_PTStarRating              float64\nfld_FirstName                  object\nfld_MiddleName                 object\nfld_LastName                   object\ndtype: object"
     },
     "metadata": {},
     "output_type": "display_data"
    }
   ],
   "source": [
    "# View Data\n",
    "print(df.shape)\n",
    "display(df.dtypes)"
   ],
   "metadata": {
    "collapsed": false,
    "ExecuteTime": {
     "end_time": "2023-08-14T12:45:06.569821900Z",
     "start_time": "2023-08-14T12:45:06.528482300Z"
    }
   }
  },
  {
   "cell_type": "code",
   "execution_count": 26,
   "outputs": [
    {
     "data": {
      "text/plain": "           TicketNo fld_BranchCode fld_RegionCode fld_AreaCode                  fld_BranchName  PrincipalAmt            LoanDate             DateCreated ExpiryDate TransStatus       FormNo      StorageGroupName DesignModelName  fld_Weight fld_Karat     fld_ItemDescription fld_StorageGroupID  fld_AppraiseValue PromoCode PromoReason  InterestNewPrenda fld_CustomerNo  new_PTStarRating fld_FirstName fld_MiddleName fld_LastName\n20    61752SG002038          61752             2B          216                      CLH Tarcan       21000.0 2020-09-08 14:29:00 2020-09-08 14:30:00.000 2021-01-08    Redeemed  2B-IC223160  JEWELRY W/BRILL-GOLD               -         8.1       21K  -,Others,cross des def                  7           24075.00    [None]                         840.00   617520014594               0.0         GRACE             V.       CASTRO\n203   20111SG094315          20111             2B          216                   CLH Malolos 2       10755.0 2020-02-05 17:53:00 2020-02-05 17:54:00.000 2020-06-05    Redeemed  2B-NC149174          JEWELRY-GOLD               -         3.8       21K          -,Yellow Gold,                 13           10755.14    RDMCQ1       covid             430.20   201110475003               0.0       LEONORA       SANTIAGO      BASALLO\n286   61458SG004221          61458             2B          216  CLH Balagtas Saint Anne Square        3430.0 2020-01-03 13:45:00 2020-01-03 13:45:00.000 2020-05-04        Sold  2B-IC622507          JEWELRY-GOLD               -         1.4       21K                   -,NA,                 13            3430.00    [None]                         137.20   201110599464               0.0  CZARINA ANNE        ANGELES     ESGUERRA\n322  20111SG0108668          20111             2B          216                   CLH Malolos 2        5500.0 2021-10-15 13:50:00 2021-10-15 13:53:00.000 2022-02-14  Pulled-Out  2B-NQ418503          JEWELRY-GOLD               -         2.0       18K      -,White Gold,cable                 13            5500.00     PRD10       4star             220.00   201110433348               4.0        MYLENE        MERCADO      GABRIEL\n394   60388NP001832          60388             2B          216                   CLH Malolos 1       53431.0 2022-11-02 00:00:00 2022-11-02 11:32:51.750 2023-03-03    Redeemed  2B-NL148835         NECKLACE GOLD               -        17.7       18K   -,Yellow Gold,des def                 13           46462.50     PRD15                        2137.24   603880608276               4.0     MA RACHEL          MATEO   VALENZUELA",
      "text/html": "<div>\n<style scoped>\n    .dataframe tbody tr th:only-of-type {\n        vertical-align: middle;\n    }\n\n    .dataframe tbody tr th {\n        vertical-align: top;\n    }\n\n    .dataframe thead th {\n        text-align: right;\n    }\n</style>\n<table border=\"1\" class=\"dataframe\">\n  <thead>\n    <tr style=\"text-align: right;\">\n      <th></th>\n      <th>TicketNo</th>\n      <th>fld_BranchCode</th>\n      <th>fld_RegionCode</th>\n      <th>fld_AreaCode</th>\n      <th>fld_BranchName</th>\n      <th>PrincipalAmt</th>\n      <th>LoanDate</th>\n      <th>DateCreated</th>\n      <th>ExpiryDate</th>\n      <th>TransStatus</th>\n      <th>FormNo</th>\n      <th>StorageGroupName</th>\n      <th>DesignModelName</th>\n      <th>fld_Weight</th>\n      <th>fld_Karat</th>\n      <th>fld_ItemDescription</th>\n      <th>fld_StorageGroupID</th>\n      <th>fld_AppraiseValue</th>\n      <th>PromoCode</th>\n      <th>PromoReason</th>\n      <th>InterestNewPrenda</th>\n      <th>fld_CustomerNo</th>\n      <th>new_PTStarRating</th>\n      <th>fld_FirstName</th>\n      <th>fld_MiddleName</th>\n      <th>fld_LastName</th>\n    </tr>\n  </thead>\n  <tbody>\n    <tr>\n      <th>20</th>\n      <td>61752SG002038</td>\n      <td>61752</td>\n      <td>2B</td>\n      <td>216</td>\n      <td>CLH Tarcan</td>\n      <td>21000.0</td>\n      <td>2020-09-08 14:29:00</td>\n      <td>2020-09-08 14:30:00.000</td>\n      <td>2021-01-08</td>\n      <td>Redeemed</td>\n      <td>2B-IC223160</td>\n      <td>JEWELRY W/BRILL-GOLD</td>\n      <td>-</td>\n      <td>8.1</td>\n      <td>21K</td>\n      <td>-,Others,cross des def</td>\n      <td>7</td>\n      <td>24075.00</td>\n      <td>[None]</td>\n      <td></td>\n      <td>840.00</td>\n      <td>617520014594</td>\n      <td>0.0</td>\n      <td>GRACE</td>\n      <td>V.</td>\n      <td>CASTRO</td>\n    </tr>\n    <tr>\n      <th>203</th>\n      <td>20111SG094315</td>\n      <td>20111</td>\n      <td>2B</td>\n      <td>216</td>\n      <td>CLH Malolos 2</td>\n      <td>10755.0</td>\n      <td>2020-02-05 17:53:00</td>\n      <td>2020-02-05 17:54:00.000</td>\n      <td>2020-06-05</td>\n      <td>Redeemed</td>\n      <td>2B-NC149174</td>\n      <td>JEWELRY-GOLD</td>\n      <td>-</td>\n      <td>3.8</td>\n      <td>21K</td>\n      <td>-,Yellow Gold,</td>\n      <td>13</td>\n      <td>10755.14</td>\n      <td>RDMCQ1</td>\n      <td>covid</td>\n      <td>430.20</td>\n      <td>201110475003</td>\n      <td>0.0</td>\n      <td>LEONORA</td>\n      <td>SANTIAGO</td>\n      <td>BASALLO</td>\n    </tr>\n    <tr>\n      <th>286</th>\n      <td>61458SG004221</td>\n      <td>61458</td>\n      <td>2B</td>\n      <td>216</td>\n      <td>CLH Balagtas Saint Anne Square</td>\n      <td>3430.0</td>\n      <td>2020-01-03 13:45:00</td>\n      <td>2020-01-03 13:45:00.000</td>\n      <td>2020-05-04</td>\n      <td>Sold</td>\n      <td>2B-IC622507</td>\n      <td>JEWELRY-GOLD</td>\n      <td>-</td>\n      <td>1.4</td>\n      <td>21K</td>\n      <td>-,NA,</td>\n      <td>13</td>\n      <td>3430.00</td>\n      <td>[None]</td>\n      <td></td>\n      <td>137.20</td>\n      <td>201110599464</td>\n      <td>0.0</td>\n      <td>CZARINA ANNE</td>\n      <td>ANGELES</td>\n      <td>ESGUERRA</td>\n    </tr>\n    <tr>\n      <th>322</th>\n      <td>20111SG0108668</td>\n      <td>20111</td>\n      <td>2B</td>\n      <td>216</td>\n      <td>CLH Malolos 2</td>\n      <td>5500.0</td>\n      <td>2021-10-15 13:50:00</td>\n      <td>2021-10-15 13:53:00.000</td>\n      <td>2022-02-14</td>\n      <td>Pulled-Out</td>\n      <td>2B-NQ418503</td>\n      <td>JEWELRY-GOLD</td>\n      <td>-</td>\n      <td>2.0</td>\n      <td>18K</td>\n      <td>-,White Gold,cable</td>\n      <td>13</td>\n      <td>5500.00</td>\n      <td>PRD10</td>\n      <td>4star</td>\n      <td>220.00</td>\n      <td>201110433348</td>\n      <td>4.0</td>\n      <td>MYLENE</td>\n      <td>MERCADO</td>\n      <td>GABRIEL</td>\n    </tr>\n    <tr>\n      <th>394</th>\n      <td>60388NP001832</td>\n      <td>60388</td>\n      <td>2B</td>\n      <td>216</td>\n      <td>CLH Malolos 1</td>\n      <td>53431.0</td>\n      <td>2022-11-02 00:00:00</td>\n      <td>2022-11-02 11:32:51.750</td>\n      <td>2023-03-03</td>\n      <td>Redeemed</td>\n      <td>2B-NL148835</td>\n      <td>NECKLACE GOLD</td>\n      <td>-</td>\n      <td>17.7</td>\n      <td>18K</td>\n      <td>-,Yellow Gold,des def</td>\n      <td>13</td>\n      <td>46462.50</td>\n      <td>PRD15</td>\n      <td></td>\n      <td>2137.24</td>\n      <td>603880608276</td>\n      <td>4.0</td>\n      <td>MA RACHEL</td>\n      <td>MATEO</td>\n      <td>VALENZUELA</td>\n    </tr>\n  </tbody>\n</table>\n</div>"
     },
     "metadata": {},
     "output_type": "display_data"
    }
   ],
   "source": [
    "display(df.head())"
   ],
   "metadata": {
    "collapsed": false,
    "ExecuteTime": {
     "end_time": "2023-08-14T12:45:06.580095400Z",
     "start_time": "2023-08-14T12:45:06.569821900Z"
    }
   }
  },
  {
   "cell_type": "code",
   "execution_count": 30,
   "outputs": [
    {
     "data": {
      "text/plain": "array(['Redeemed', 'Sold', 'Pulled-Out', 'Renewed', 'Expired',\n       'New Prenda'], dtype=object)"
     },
     "execution_count": 30,
     "metadata": {},
     "output_type": "execute_result"
    }
   ],
   "source": [
    "# Encoding Labels\n",
    "from sklearn.preprocessing import LabelEncoder\n",
    "label_encoder = LabelEncoder()\n",
    "df['CustomerNo'] = label_encoder.fit_transform(df['fld_CustomerNo'])\n",
    "df['fld_CustomerNo'].unique()\n",
    "df['trans_status'] = label_encoder.fit_transform(df['TransStatus'])\n",
    "df['TransStatus'].unique()"
   ],
   "metadata": {
    "collapsed": false,
    "ExecuteTime": {
     "end_time": "2023-08-14T12:46:31.800196300Z",
     "start_time": "2023-08-14T12:46:31.775848600Z"
    }
   }
  },
  {
   "cell_type": "code",
   "execution_count": 41,
   "outputs": [
    {
     "data": {
      "text/plain": "                        sum  count\nfld_CustomerNo                    \n201010543246     2589478.50    290\n201020210909    11725030.57    344\n201110433348     3017339.00    412\n201110475003     5810676.36    490\n201110526538     1421839.00    285",
      "text/html": "<div>\n<style scoped>\n    .dataframe tbody tr th:only-of-type {\n        vertical-align: middle;\n    }\n\n    .dataframe tbody tr th {\n        vertical-align: top;\n    }\n\n    .dataframe thead th {\n        text-align: right;\n    }\n</style>\n<table border=\"1\" class=\"dataframe\">\n  <thead>\n    <tr style=\"text-align: right;\">\n      <th></th>\n      <th>sum</th>\n      <th>count</th>\n    </tr>\n    <tr>\n      <th>fld_CustomerNo</th>\n      <th></th>\n      <th></th>\n    </tr>\n  </thead>\n  <tbody>\n    <tr>\n      <th>201010543246</th>\n      <td>2589478.50</td>\n      <td>290</td>\n    </tr>\n    <tr>\n      <th>201020210909</th>\n      <td>11725030.57</td>\n      <td>344</td>\n    </tr>\n    <tr>\n      <th>201110433348</th>\n      <td>3017339.00</td>\n      <td>412</td>\n    </tr>\n    <tr>\n      <th>201110475003</th>\n      <td>5810676.36</td>\n      <td>490</td>\n    </tr>\n    <tr>\n      <th>201110526538</th>\n      <td>1421839.00</td>\n      <td>285</td>\n    </tr>\n  </tbody>\n</table>\n</div>"
     },
     "metadata": {},
     "output_type": "display_data"
    }
   ],
   "source": [
    "# Group by 'fld_CustomerNo' and sum the columns\n",
    "\n",
    "grouped_df = pd.concat([\n",
    "    df.groupby('fld_CustomerNo')['PrincipalAmt'].sum().rename('sum'),\n",
    "    df.groupby('fld_CustomerNo').size().rename('count'),\n",
    "], axis=1)\n",
    "\n",
    "# Display the first few rows of the DataFrame\n",
    "display(grouped_df.head())\n"
   ],
   "metadata": {
    "collapsed": false,
    "ExecuteTime": {
     "end_time": "2023-08-14T12:53:19.159443700Z",
     "start_time": "2023-08-14T12:53:19.130874Z"
    }
   }
  },
  {
   "cell_type": "code",
   "execution_count": null,
   "outputs": [],
   "source": [
    "#Storing of data per client\n",
    "\n",
    "X = df[['time_numeric','date_numeric', 'CustomerNo', 'trans_status', 'new_PTStarRating', 'PrincipalAmt']]"
   ],
   "metadata": {
    "collapsed": false,
    "ExecuteTime": {
     "start_time": "2023-08-14T12:45:06.668327200Z"
    }
   }
  },
  {
   "cell_type": "code",
   "execution_count": null,
   "outputs": [],
   "source": [],
   "metadata": {
    "collapsed": false,
    "ExecuteTime": {
     "start_time": "2023-08-14T12:45:06.670497600Z"
    }
   }
  }
 ],
 "metadata": {
  "kernelspec": {
   "display_name": "Python 3",
   "language": "python",
   "name": "python3"
  },
  "language_info": {
   "codemirror_mode": {
    "name": "ipython",
    "version": 2
   },
   "file_extension": ".py",
   "mimetype": "text/x-python",
   "name": "python",
   "nbconvert_exporter": "python",
   "pygments_lexer": "ipython2",
   "version": "2.7.6"
  }
 },
 "nbformat": 4,
 "nbformat_minor": 0
}
