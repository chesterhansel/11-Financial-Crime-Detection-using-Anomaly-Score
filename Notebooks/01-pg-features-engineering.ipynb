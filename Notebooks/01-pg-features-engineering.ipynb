{
 "cells": [
  {
   "cell_type": "code",
   "execution_count": 1,
   "metadata": {
    "collapsed": true,
    "ExecuteTime": {
     "end_time": "2023-08-16T01:52:55.012006600Z",
     "start_time": "2023-08-16T01:52:53.705478Z"
    }
   },
   "outputs": [],
   "source": [
    "import datetime\n",
    "\n",
    "import pandas as pd\n",
    "import matplotlib.pyplot as plt\n",
    "import numpy as np"
   ]
  },
  {
   "cell_type": "code",
   "execution_count": 2,
   "outputs": [],
   "source": [
    "# Set display options\n",
    "pd.set_option('display.max_columns', None)  # Display all columns\n",
    "pd.set_option('display.max_rows', None)  # Display all rows\n",
    "pd.set_option('display.expand_frame_repr', False)  # Do not wrap DataFrame output"
   ],
   "metadata": {
    "collapsed": false,
    "ExecuteTime": {
     "end_time": "2023-08-16T01:52:56.460394Z",
     "start_time": "2023-08-16T01:52:56.453203800Z"
    }
   }
  },
  {
   "cell_type": "code",
   "execution_count": 3,
   "outputs": [],
   "source": [
    "# Read the Parquet file into a DataFrame\n",
    "df = pd.read_parquet(r'../Data/Np_cleaned.parquet')"
   ],
   "metadata": {
    "collapsed": false,
    "ExecuteTime": {
     "end_time": "2023-08-16T01:52:58.563124800Z",
     "start_time": "2023-08-16T01:52:58.452795100Z"
    }
   }
  },
  {
   "cell_type": "code",
   "execution_count": 4,
   "outputs": [
    {
     "name": "stdout",
     "output_type": "stream",
     "text": [
      "(6501, 26)\n"
     ]
    },
    {
     "data": {
      "text/plain": "TicketNo                       object\nfld_BranchCode                 object\nfld_RegionCode                 object\nfld_AreaCode                   object\nfld_BranchName                 object\nPrincipalAmt                  float64\nLoanDate               datetime64[ns]\nDateCreated            datetime64[ns]\nExpiryDate             datetime64[ns]\nTransStatus                    object\nFormNo                         object\nStorageGroupName               object\nDesignModelName                object\nfld_Weight                    float64\nfld_Karat                      object\nfld_ItemDescription            object\nfld_StorageGroupID             object\nfld_AppraiseValue             float64\nPromoCode                      object\nPromoReason                    object\nInterestNewPrenda             float64\nfld_CustomerNo                 object\nnew_PTStarRating              float64\nfld_FirstName                  object\nfld_MiddleName                 object\nfld_LastName                   object\ndtype: object"
     },
     "metadata": {},
     "output_type": "display_data"
    }
   ],
   "source": [
    "# View Data\n",
    "print(df.shape)\n",
    "display(df.dtypes)"
   ],
   "metadata": {
    "collapsed": false,
    "ExecuteTime": {
     "end_time": "2023-08-16T01:53:00.629187900Z",
     "start_time": "2023-08-16T01:53:00.606823700Z"
    }
   }
  },
  {
   "cell_type": "code",
   "execution_count": 5,
   "outputs": [
    {
     "data": {
      "text/plain": "           TicketNo fld_BranchCode fld_RegionCode fld_AreaCode                  fld_BranchName  PrincipalAmt            LoanDate             DateCreated ExpiryDate TransStatus       FormNo      StorageGroupName DesignModelName  fld_Weight fld_Karat     fld_ItemDescription fld_StorageGroupID  fld_AppraiseValue PromoCode PromoReason  InterestNewPrenda fld_CustomerNo  new_PTStarRating fld_FirstName fld_MiddleName fld_LastName\n20    61752SG002038          61752             2B          216                      CLH Tarcan       21000.0 2020-09-08 14:29:00 2020-09-08 14:30:00.000 2021-01-08    Redeemed  2B-IC223160  JEWELRY W/BRILL-GOLD               -         8.1       21K  -,Others,cross des def                  7           24075.00    [None]                         840.00   617520014594               0.0         GRACE             V.       CASTRO\n203   20111SG094315          20111             2B          216                   CLH Malolos 2       10755.0 2020-02-05 17:53:00 2020-02-05 17:54:00.000 2020-06-05    Redeemed  2B-NC149174          JEWELRY-GOLD               -         3.8       21K          -,Yellow Gold,                 13           10755.14    RDMCQ1       covid             430.20   201110475003               0.0       LEONORA       SANTIAGO      BASALLO\n286   61458SG004221          61458             2B          216  CLH Balagtas Saint Anne Square        3430.0 2020-01-03 13:45:00 2020-01-03 13:45:00.000 2020-05-04        Sold  2B-IC622507          JEWELRY-GOLD               -         1.4       21K                   -,NA,                 13            3430.00    [None]                         137.20   201110599464               0.0  CZARINA ANNE        ANGELES     ESGUERRA\n322  20111SG0108668          20111             2B          216                   CLH Malolos 2        5500.0 2021-10-15 13:50:00 2021-10-15 13:53:00.000 2022-02-14  Pulled-Out  2B-NQ418503          JEWELRY-GOLD               -         2.0       18K      -,White Gold,cable                 13            5500.00     PRD10       4star             220.00   201110433348               4.0        MYLENE        MERCADO      GABRIEL\n394   60388NP001832          60388             2B          216                   CLH Malolos 1       53431.0 2022-11-02 00:00:00 2022-11-02 11:32:51.750 2023-03-03    Redeemed  2B-NL148835         NECKLACE GOLD               -        17.7       18K   -,Yellow Gold,des def                 13           46462.50     PRD15                        2137.24   603880608276               4.0     MA RACHEL          MATEO   VALENZUELA",
      "text/html": "<div>\n<style scoped>\n    .dataframe tbody tr th:only-of-type {\n        vertical-align: middle;\n    }\n\n    .dataframe tbody tr th {\n        vertical-align: top;\n    }\n\n    .dataframe thead th {\n        text-align: right;\n    }\n</style>\n<table border=\"1\" class=\"dataframe\">\n  <thead>\n    <tr style=\"text-align: right;\">\n      <th></th>\n      <th>TicketNo</th>\n      <th>fld_BranchCode</th>\n      <th>fld_RegionCode</th>\n      <th>fld_AreaCode</th>\n      <th>fld_BranchName</th>\n      <th>PrincipalAmt</th>\n      <th>LoanDate</th>\n      <th>DateCreated</th>\n      <th>ExpiryDate</th>\n      <th>TransStatus</th>\n      <th>FormNo</th>\n      <th>StorageGroupName</th>\n      <th>DesignModelName</th>\n      <th>fld_Weight</th>\n      <th>fld_Karat</th>\n      <th>fld_ItemDescription</th>\n      <th>fld_StorageGroupID</th>\n      <th>fld_AppraiseValue</th>\n      <th>PromoCode</th>\n      <th>PromoReason</th>\n      <th>InterestNewPrenda</th>\n      <th>fld_CustomerNo</th>\n      <th>new_PTStarRating</th>\n      <th>fld_FirstName</th>\n      <th>fld_MiddleName</th>\n      <th>fld_LastName</th>\n    </tr>\n  </thead>\n  <tbody>\n    <tr>\n      <th>20</th>\n      <td>61752SG002038</td>\n      <td>61752</td>\n      <td>2B</td>\n      <td>216</td>\n      <td>CLH Tarcan</td>\n      <td>21000.0</td>\n      <td>2020-09-08 14:29:00</td>\n      <td>2020-09-08 14:30:00.000</td>\n      <td>2021-01-08</td>\n      <td>Redeemed</td>\n      <td>2B-IC223160</td>\n      <td>JEWELRY W/BRILL-GOLD</td>\n      <td>-</td>\n      <td>8.1</td>\n      <td>21K</td>\n      <td>-,Others,cross des def</td>\n      <td>7</td>\n      <td>24075.00</td>\n      <td>[None]</td>\n      <td></td>\n      <td>840.00</td>\n      <td>617520014594</td>\n      <td>0.0</td>\n      <td>GRACE</td>\n      <td>V.</td>\n      <td>CASTRO</td>\n    </tr>\n    <tr>\n      <th>203</th>\n      <td>20111SG094315</td>\n      <td>20111</td>\n      <td>2B</td>\n      <td>216</td>\n      <td>CLH Malolos 2</td>\n      <td>10755.0</td>\n      <td>2020-02-05 17:53:00</td>\n      <td>2020-02-05 17:54:00.000</td>\n      <td>2020-06-05</td>\n      <td>Redeemed</td>\n      <td>2B-NC149174</td>\n      <td>JEWELRY-GOLD</td>\n      <td>-</td>\n      <td>3.8</td>\n      <td>21K</td>\n      <td>-,Yellow Gold,</td>\n      <td>13</td>\n      <td>10755.14</td>\n      <td>RDMCQ1</td>\n      <td>covid</td>\n      <td>430.20</td>\n      <td>201110475003</td>\n      <td>0.0</td>\n      <td>LEONORA</td>\n      <td>SANTIAGO</td>\n      <td>BASALLO</td>\n    </tr>\n    <tr>\n      <th>286</th>\n      <td>61458SG004221</td>\n      <td>61458</td>\n      <td>2B</td>\n      <td>216</td>\n      <td>CLH Balagtas Saint Anne Square</td>\n      <td>3430.0</td>\n      <td>2020-01-03 13:45:00</td>\n      <td>2020-01-03 13:45:00.000</td>\n      <td>2020-05-04</td>\n      <td>Sold</td>\n      <td>2B-IC622507</td>\n      <td>JEWELRY-GOLD</td>\n      <td>-</td>\n      <td>1.4</td>\n      <td>21K</td>\n      <td>-,NA,</td>\n      <td>13</td>\n      <td>3430.00</td>\n      <td>[None]</td>\n      <td></td>\n      <td>137.20</td>\n      <td>201110599464</td>\n      <td>0.0</td>\n      <td>CZARINA ANNE</td>\n      <td>ANGELES</td>\n      <td>ESGUERRA</td>\n    </tr>\n    <tr>\n      <th>322</th>\n      <td>20111SG0108668</td>\n      <td>20111</td>\n      <td>2B</td>\n      <td>216</td>\n      <td>CLH Malolos 2</td>\n      <td>5500.0</td>\n      <td>2021-10-15 13:50:00</td>\n      <td>2021-10-15 13:53:00.000</td>\n      <td>2022-02-14</td>\n      <td>Pulled-Out</td>\n      <td>2B-NQ418503</td>\n      <td>JEWELRY-GOLD</td>\n      <td>-</td>\n      <td>2.0</td>\n      <td>18K</td>\n      <td>-,White Gold,cable</td>\n      <td>13</td>\n      <td>5500.00</td>\n      <td>PRD10</td>\n      <td>4star</td>\n      <td>220.00</td>\n      <td>201110433348</td>\n      <td>4.0</td>\n      <td>MYLENE</td>\n      <td>MERCADO</td>\n      <td>GABRIEL</td>\n    </tr>\n    <tr>\n      <th>394</th>\n      <td>60388NP001832</td>\n      <td>60388</td>\n      <td>2B</td>\n      <td>216</td>\n      <td>CLH Malolos 1</td>\n      <td>53431.0</td>\n      <td>2022-11-02 00:00:00</td>\n      <td>2022-11-02 11:32:51.750</td>\n      <td>2023-03-03</td>\n      <td>Redeemed</td>\n      <td>2B-NL148835</td>\n      <td>NECKLACE GOLD</td>\n      <td>-</td>\n      <td>17.7</td>\n      <td>18K</td>\n      <td>-,Yellow Gold,des def</td>\n      <td>13</td>\n      <td>46462.50</td>\n      <td>PRD15</td>\n      <td></td>\n      <td>2137.24</td>\n      <td>603880608276</td>\n      <td>4.0</td>\n      <td>MA RACHEL</td>\n      <td>MATEO</td>\n      <td>VALENZUELA</td>\n    </tr>\n  </tbody>\n</table>\n</div>"
     },
     "metadata": {},
     "output_type": "display_data"
    }
   ],
   "source": [
    "display(df.head())"
   ],
   "metadata": {
    "collapsed": false,
    "ExecuteTime": {
     "end_time": "2023-08-16T01:53:05.145444Z",
     "start_time": "2023-08-16T01:53:05.117355300Z"
    }
   }
  },
  {
   "cell_type": "code",
   "execution_count": 6,
   "outputs": [],
   "source": [
    "import pandas as pd\n",
    "\n",
    "# Assuming you have your DataFrame 'df'\n",
    "\n",
    "# Parsing datetime and numeric values\n",
    "df['datetime'] = pd.to_datetime(df['DateCreated'])\n",
    "df['time_numeric'] = df['datetime'].dt.hour * 3600 \\\n",
    "                     + df['datetime'].dt.minute * 60 + df['datetime'].dt.second\n",
    "df['date_numeric'] = (df['datetime'] - pd.to_datetime('1990-01-01')).dt.days\n"
   ],
   "metadata": {
    "collapsed": false,
    "ExecuteTime": {
     "end_time": "2023-08-16T01:53:08.156238300Z",
     "start_time": "2023-08-16T01:53:08.125568100Z"
    }
   }
  },
  {
   "cell_type": "code",
   "execution_count": 7,
   "outputs": [
    {
     "data": {
      "text/plain": "             TicketNo fld_BranchCode fld_RegionCode fld_AreaCode                  fld_BranchName  PrincipalAmt            LoanDate         DateCreated ExpiryDate TransStatus       FormNo StorageGroupName  DesignModelName  fld_Weight fld_Karat           fld_ItemDescription fld_StorageGroupID  fld_AppraiseValue PromoCode PromoReason  InterestNewPrenda fld_CustomerNo  new_PTStarRating fld_FirstName fld_MiddleName fld_LastName            datetime  time_numeric  date_numeric preceding_date_interval succeeding_date_interval\n73591   20101SG038874          20101             2B          216                    CLH Balagtas       10672.0 2019-12-28 12:02:00 2019-12-28 11:58:00 2020-04-27    Redeemed  2B-IQ430974     JEWELRY-GOLD                -         4.2       21K                    -,Others,$                 13           10672.20    [None]         ecq             426.88   201010543246               0.0   HEIDI MARIE      HERNANDEZ     CASTILLO 2019-12-28 11:58:00         43080         10953                     NaT       -13 days +02:04:00\n280101  20101SG039053          20101             2B          216                    CLH Balagtas        6295.0 2020-01-10 09:57:00 2020-01-10 09:54:00 2020-05-11  Pulled-Out  2B-IQ431451     JEWELRY-GOLD                -         2.3       21K                -,Others,w/des                 13            6295.10     RPAWN                         251.80   201010543246               0.0   HEIDI MARIE      HERNANDEZ     CASTILLO 2020-01-10 09:54:00         35640         10966        12 days 21:56:00        -1 days +01:49:00\n574     20101SG039069          20101             2B          216                    CLH Balagtas        8211.0 2020-01-11 08:03:00 2020-01-11 08:05:00 2020-05-11    Redeemed  2B-IQ431476     JEWELRY-GOLD         ROPE -NG         2.0       18K                  ROPE -NG,NA,                 13            8211.00     PRD15       prd15             328.44   201010543246               0.0   HEIDI MARIE      HERNANDEZ     CASTILLO 2020-01-11 08:05:00         29100         10967         0 days 22:11:00          0 days 00:00:00\n575     20101SG039069          20101             2B          216                    CLH Balagtas        8211.0 2020-01-11 08:03:00 2020-01-11 08:05:00 2020-05-11    Redeemed  2B-IQ431476     JEWELRY-GOLD                -         1.2       21K        -,Others,heart \"A\" des                 13            8211.00     PRD15       prd15             328.44   201010543246               0.0   HEIDI MARIE      HERNANDEZ     CASTILLO 2020-01-11 08:05:00         29100         10967         0 days 00:00:00        -8 days +19:54:00\n100836  20101SG039167          20101             2B          216                    CLH Balagtas        6480.0 2020-01-18 12:08:00 2020-01-18 12:11:00 2020-05-18    Redeemed  2B-NJ204251     JEWELRY-GOLD             HOOK         2.3       21K             HOOK,Others,heart                 13            6480.25     PRD15  reg client             259.20   201010543246               0.0   HEIDI MARIE      HERNANDEZ     CASTILLO 2020-01-18 12:11:00         43860         10974         7 days 04:06:00        -8 days +03:47:00\n95501   20101SG039274          20101             2B          216                    CLH Balagtas        6037.0 2020-01-26 08:22:00 2020-01-26 08:24:00 2020-05-27        Sold  2B-NJ204535     JEWELRY-GOLD                -         2.5       18K        -,Others,s link design                 13            6037.50     PRD15  reg client             241.48   201010543246               0.0   HEIDI MARIE      HERNANDEZ     CASTILLO 2020-01-26 08:24:00         30240         10982         7 days 20:13:00       -12 days +22:44:00\n152111  20101SG039471          20101             2B          216                    CLH Balagtas       27518.0 2020-02-06 09:37:00 2020-02-06 09:40:00 2020-06-08    Redeemed  2B-NJ205012     JEWELRY-GOLD  FLAT CHAIN  -NG         9.3       21K           FLAT CHAIN  -NG,NA,                 13           27518.24     PRD15         reg            1100.72   201010543246               0.0   HEIDI MARIE      HERNANDEZ     CASTILLO 2020-02-06 09:40:00         34800         10993        11 days 01:16:00        -9 days +19:28:00\n169995  20101SG039611          20101             2B          216                    CLH Balagtas       11642.0 2020-02-14 14:10:00 2020-02-14 14:12:00 2020-06-15    Redeemed  2B-NJ205365     JEWELRY-GOLD      ID BRACELET         4.8       18K               ID BRACELET,NA,                 13           11642.40     PRD10       PRD10             465.68   201010543246               0.0   HEIDI MARIE      HERNANDEZ     CASTILLO 2020-02-14 14:12:00         51120         11001         8 days 04:32:00        -1 days +23:48:00\n284896  20101SG039612          20101             2B          216                    CLH Balagtas       17457.0 2020-02-14 14:23:00 2020-02-14 14:24:00 2020-06-15    Redeemed  2B-NJ205366     JEWELRY-GOLD      CURB LINK G         5.9       21K               CURB LINK G,NA,                 13           17457.81    [None]         ecq             698.28   201010543246               0.0   HEIDI MARIE      HERNANDEZ     CASTILLO 2020-02-14 14:24:00         51840         11001         0 days 00:12:00        -4 days +02:26:00\n320297  20101SG039673          20101             2B          216                    CLH Balagtas       10375.0 2020-02-18 12:02:00 2020-02-18 11:58:00 2020-06-19    Redeemed  2B-NJ205506     JEWELRY-GOLD     FOXTAIL -NPG         4.9       18K  FOXTAIL -NPG,Others,star des                 13           10375.75     RPAWN                         415.00   201010543246               0.0   HEIDI MARIE      HERNANDEZ     CASTILLO 2020-02-18 11:58:00         43080         11005         3 days 21:34:00       -21 days +19:25:00\n184297  20101SG039996          20101             2B          216                    CLH Balagtas        4652.0 2020-03-09 16:38:00 2020-03-09 16:33:00 2020-07-08    Redeemed  2B-NJ206322     JEWELRY-GOLD                -         1.7       21K                  -,Others,des                 13            4652.90    [None]         ecq             186.08   201010543246               0.0   HEIDI MARIE      HERNANDEZ     CASTILLO 2020-03-09 16:33:00         59580         11025        20 days 04:35:00        -1 days +23:59:00\n169290  20101SG039997          20101             2B          216                    CLH Balagtas        5635.0 2020-03-09 16:39:00 2020-03-09 16:34:00 2020-07-08    Redeemed  2B-NJ206323     JEWELRY-GOLD                -         2.0       21K                  -,Others,des                 13            5635.00    [None]         ecq             225.40   201010543246               0.0   HEIDI MARIE      HERNANDEZ     CASTILLO 2020-03-09 16:34:00         59640         11025         0 days 00:01:00        -1 days +23:58:00\n265005  20101SG039998          20101             2B          216                    CLH Balagtas        4789.0 2020-03-09 16:41:00 2020-03-09 16:36:00 2020-07-08    Redeemed  2B-NJ206324     JEWELRY-GOLD                -         1.7       21K                  -,Others,des                 13            4789.75    [None]         ecq             191.56   201010543246               0.0   HEIDI MARIE      HERNANDEZ     CASTILLO 2020-03-09 16:36:00         59760         11025         0 days 00:02:00        -1 days +23:52:00\n4375    20101SG039999          20101             2B          216                    CLH Balagtas        2739.0 2020-03-09 16:42:00 2020-03-09 16:44:00 2020-07-08    Redeemed  2B-NJ206325     JEWELRY-GOLD  FLAT CHAIN  -PG         1.6       14K           FLAT CHAIN  -PG,NA,                 13            2739.20    [None]         ecq               0.56   201010543246               0.0   HEIDI MARIE      HERNANDEZ     CASTILLO 2020-03-09 16:44:00         60240         11025         0 days 00:08:00       -94 days +07:22:00\n67452   20101SG040294          20101             2B          216                    CLH Balagtas        9660.0 2020-06-11 09:21:00 2020-06-11 09:22:00 2020-10-12    Redeemed  2B-NJ388863     JEWELRY-GOLD                -         4.6       18K         -,Others,chinese char                 13            9660.00    [None]                         386.40   201010543246               0.0   HEIDI MARIE      HERNANDEZ     CASTILLO 2020-06-11 09:22:00         33720         11119        93 days 16:38:00        -8 days +19:03:00\n278988  20101SG040322          20101             2B          216                    CLH Balagtas        2608.0 2020-06-18 14:18:00 2020-06-18 14:19:00 2020-10-19    Redeemed  2B-NJ389032     JEWELRY-GOLD        BRAIDED G         1.6       14K                 BRAIDED G,NA,                 13            2608.00    [None]                         104.32   201010543246               0.0   HEIDI MARIE      HERNANDEZ     CASTILLO 2020-06-18 14:19:00         51540         11126         7 days 04:57:00       -60 days +00:28:00\n18208   61458SG004899          61458             2B          216  CLH Balagtas Saint Anne Square        2850.0 2020-08-17 13:49:00 2020-08-17 13:51:00 2020-12-16    Redeemed  2B-NA281253     JEWELRY-GOLD                -         1.5       14K       -,Others,ear np chanel                  13            2850.00    [None]                         114.00   201010543246               0.0   HEIDI MARIE      HERNANDEZ     CASTILLO 2020-08-17 13:51:00         49860         11186        59 days 23:32:00       -10 days +03:36:00\n257308  20101SG040692          20101             2B          216                    CLH Balagtas        7680.0 2020-08-27 10:14:00 2020-08-27 10:15:00 2020-12-28    Redeemed  2B-NJ390518     JEWELRY-GOLD      CURB LINK G         3.2       18K       CURB LINK G,Others,w/tm                 13            7680.00    [None]                         307.20   201010543246               0.0   HEIDI MARIE      HERNANDEZ     CASTILLO 2020-08-27 10:15:00         36900         11196         9 days 20:24:00       -18 days +00:02:00\n224807  20101SG040822          20101             2B          216                    CLH Balagtas        6875.0 2020-09-14 10:12:00 2020-09-14 10:13:00 2021-01-13    Redeemed  2B-NJ390897     JEWELRY-GOLD                -         2.5       21K             -,Others,DAMASCUS                 13            6875.00    [None]                         275.00   201010543246               0.0   HEIDI MARIE      HERNANDEZ     CASTILLO 2020-09-14 10:13:00         36780         11214        17 days 23:58:00        -1 days +23:58:00\n128658  20101SG040823          20101             2B          216                    CLH Balagtas        5500.0 2020-09-14 10:14:00 2020-09-14 10:15:00 2021-01-13    Redeemed  2B-NJ390898     JEWELRY-GOLD                -         2.0       21K            -,Others,OPEN DOME                 13            5500.00    [None]                         220.00   201010543246               0.0   HEIDI MARIE      HERNANDEZ     CASTILLO 2020-09-14 10:15:00         36900         11214         0 days 00:02:00        -1 days +19:48:00",
      "text/html": "<div>\n<style scoped>\n    .dataframe tbody tr th:only-of-type {\n        vertical-align: middle;\n    }\n\n    .dataframe tbody tr th {\n        vertical-align: top;\n    }\n\n    .dataframe thead th {\n        text-align: right;\n    }\n</style>\n<table border=\"1\" class=\"dataframe\">\n  <thead>\n    <tr style=\"text-align: right;\">\n      <th></th>\n      <th>TicketNo</th>\n      <th>fld_BranchCode</th>\n      <th>fld_RegionCode</th>\n      <th>fld_AreaCode</th>\n      <th>fld_BranchName</th>\n      <th>PrincipalAmt</th>\n      <th>LoanDate</th>\n      <th>DateCreated</th>\n      <th>ExpiryDate</th>\n      <th>TransStatus</th>\n      <th>FormNo</th>\n      <th>StorageGroupName</th>\n      <th>DesignModelName</th>\n      <th>fld_Weight</th>\n      <th>fld_Karat</th>\n      <th>fld_ItemDescription</th>\n      <th>fld_StorageGroupID</th>\n      <th>fld_AppraiseValue</th>\n      <th>PromoCode</th>\n      <th>PromoReason</th>\n      <th>InterestNewPrenda</th>\n      <th>fld_CustomerNo</th>\n      <th>new_PTStarRating</th>\n      <th>fld_FirstName</th>\n      <th>fld_MiddleName</th>\n      <th>fld_LastName</th>\n      <th>datetime</th>\n      <th>time_numeric</th>\n      <th>date_numeric</th>\n      <th>preceding_date_interval</th>\n      <th>succeeding_date_interval</th>\n    </tr>\n  </thead>\n  <tbody>\n    <tr>\n      <th>73591</th>\n      <td>20101SG038874</td>\n      <td>20101</td>\n      <td>2B</td>\n      <td>216</td>\n      <td>CLH Balagtas</td>\n      <td>10672.0</td>\n      <td>2019-12-28 12:02:00</td>\n      <td>2019-12-28 11:58:00</td>\n      <td>2020-04-27</td>\n      <td>Redeemed</td>\n      <td>2B-IQ430974</td>\n      <td>JEWELRY-GOLD</td>\n      <td>-</td>\n      <td>4.2</td>\n      <td>21K</td>\n      <td>-,Others,$</td>\n      <td>13</td>\n      <td>10672.20</td>\n      <td>[None]</td>\n      <td>ecq</td>\n      <td>426.88</td>\n      <td>201010543246</td>\n      <td>0.0</td>\n      <td>HEIDI MARIE</td>\n      <td>HERNANDEZ</td>\n      <td>CASTILLO</td>\n      <td>2019-12-28 11:58:00</td>\n      <td>43080</td>\n      <td>10953</td>\n      <td>NaT</td>\n      <td>-13 days +02:04:00</td>\n    </tr>\n    <tr>\n      <th>280101</th>\n      <td>20101SG039053</td>\n      <td>20101</td>\n      <td>2B</td>\n      <td>216</td>\n      <td>CLH Balagtas</td>\n      <td>6295.0</td>\n      <td>2020-01-10 09:57:00</td>\n      <td>2020-01-10 09:54:00</td>\n      <td>2020-05-11</td>\n      <td>Pulled-Out</td>\n      <td>2B-IQ431451</td>\n      <td>JEWELRY-GOLD</td>\n      <td>-</td>\n      <td>2.3</td>\n      <td>21K</td>\n      <td>-,Others,w/des</td>\n      <td>13</td>\n      <td>6295.10</td>\n      <td>RPAWN</td>\n      <td></td>\n      <td>251.80</td>\n      <td>201010543246</td>\n      <td>0.0</td>\n      <td>HEIDI MARIE</td>\n      <td>HERNANDEZ</td>\n      <td>CASTILLO</td>\n      <td>2020-01-10 09:54:00</td>\n      <td>35640</td>\n      <td>10966</td>\n      <td>12 days 21:56:00</td>\n      <td>-1 days +01:49:00</td>\n    </tr>\n    <tr>\n      <th>574</th>\n      <td>20101SG039069</td>\n      <td>20101</td>\n      <td>2B</td>\n      <td>216</td>\n      <td>CLH Balagtas</td>\n      <td>8211.0</td>\n      <td>2020-01-11 08:03:00</td>\n      <td>2020-01-11 08:05:00</td>\n      <td>2020-05-11</td>\n      <td>Redeemed</td>\n      <td>2B-IQ431476</td>\n      <td>JEWELRY-GOLD</td>\n      <td>ROPE -NG</td>\n      <td>2.0</td>\n      <td>18K</td>\n      <td>ROPE -NG,NA,</td>\n      <td>13</td>\n      <td>8211.00</td>\n      <td>PRD15</td>\n      <td>prd15</td>\n      <td>328.44</td>\n      <td>201010543246</td>\n      <td>0.0</td>\n      <td>HEIDI MARIE</td>\n      <td>HERNANDEZ</td>\n      <td>CASTILLO</td>\n      <td>2020-01-11 08:05:00</td>\n      <td>29100</td>\n      <td>10967</td>\n      <td>0 days 22:11:00</td>\n      <td>0 days 00:00:00</td>\n    </tr>\n    <tr>\n      <th>575</th>\n      <td>20101SG039069</td>\n      <td>20101</td>\n      <td>2B</td>\n      <td>216</td>\n      <td>CLH Balagtas</td>\n      <td>8211.0</td>\n      <td>2020-01-11 08:03:00</td>\n      <td>2020-01-11 08:05:00</td>\n      <td>2020-05-11</td>\n      <td>Redeemed</td>\n      <td>2B-IQ431476</td>\n      <td>JEWELRY-GOLD</td>\n      <td>-</td>\n      <td>1.2</td>\n      <td>21K</td>\n      <td>-,Others,heart \"A\" des</td>\n      <td>13</td>\n      <td>8211.00</td>\n      <td>PRD15</td>\n      <td>prd15</td>\n      <td>328.44</td>\n      <td>201010543246</td>\n      <td>0.0</td>\n      <td>HEIDI MARIE</td>\n      <td>HERNANDEZ</td>\n      <td>CASTILLO</td>\n      <td>2020-01-11 08:05:00</td>\n      <td>29100</td>\n      <td>10967</td>\n      <td>0 days 00:00:00</td>\n      <td>-8 days +19:54:00</td>\n    </tr>\n    <tr>\n      <th>100836</th>\n      <td>20101SG039167</td>\n      <td>20101</td>\n      <td>2B</td>\n      <td>216</td>\n      <td>CLH Balagtas</td>\n      <td>6480.0</td>\n      <td>2020-01-18 12:08:00</td>\n      <td>2020-01-18 12:11:00</td>\n      <td>2020-05-18</td>\n      <td>Redeemed</td>\n      <td>2B-NJ204251</td>\n      <td>JEWELRY-GOLD</td>\n      <td>HOOK</td>\n      <td>2.3</td>\n      <td>21K</td>\n      <td>HOOK,Others,heart</td>\n      <td>13</td>\n      <td>6480.25</td>\n      <td>PRD15</td>\n      <td>reg client</td>\n      <td>259.20</td>\n      <td>201010543246</td>\n      <td>0.0</td>\n      <td>HEIDI MARIE</td>\n      <td>HERNANDEZ</td>\n      <td>CASTILLO</td>\n      <td>2020-01-18 12:11:00</td>\n      <td>43860</td>\n      <td>10974</td>\n      <td>7 days 04:06:00</td>\n      <td>-8 days +03:47:00</td>\n    </tr>\n    <tr>\n      <th>95501</th>\n      <td>20101SG039274</td>\n      <td>20101</td>\n      <td>2B</td>\n      <td>216</td>\n      <td>CLH Balagtas</td>\n      <td>6037.0</td>\n      <td>2020-01-26 08:22:00</td>\n      <td>2020-01-26 08:24:00</td>\n      <td>2020-05-27</td>\n      <td>Sold</td>\n      <td>2B-NJ204535</td>\n      <td>JEWELRY-GOLD</td>\n      <td>-</td>\n      <td>2.5</td>\n      <td>18K</td>\n      <td>-,Others,s link design</td>\n      <td>13</td>\n      <td>6037.50</td>\n      <td>PRD15</td>\n      <td>reg client</td>\n      <td>241.48</td>\n      <td>201010543246</td>\n      <td>0.0</td>\n      <td>HEIDI MARIE</td>\n      <td>HERNANDEZ</td>\n      <td>CASTILLO</td>\n      <td>2020-01-26 08:24:00</td>\n      <td>30240</td>\n      <td>10982</td>\n      <td>7 days 20:13:00</td>\n      <td>-12 days +22:44:00</td>\n    </tr>\n    <tr>\n      <th>152111</th>\n      <td>20101SG039471</td>\n      <td>20101</td>\n      <td>2B</td>\n      <td>216</td>\n      <td>CLH Balagtas</td>\n      <td>27518.0</td>\n      <td>2020-02-06 09:37:00</td>\n      <td>2020-02-06 09:40:00</td>\n      <td>2020-06-08</td>\n      <td>Redeemed</td>\n      <td>2B-NJ205012</td>\n      <td>JEWELRY-GOLD</td>\n      <td>FLAT CHAIN  -NG</td>\n      <td>9.3</td>\n      <td>21K</td>\n      <td>FLAT CHAIN  -NG,NA,</td>\n      <td>13</td>\n      <td>27518.24</td>\n      <td>PRD15</td>\n      <td>reg</td>\n      <td>1100.72</td>\n      <td>201010543246</td>\n      <td>0.0</td>\n      <td>HEIDI MARIE</td>\n      <td>HERNANDEZ</td>\n      <td>CASTILLO</td>\n      <td>2020-02-06 09:40:00</td>\n      <td>34800</td>\n      <td>10993</td>\n      <td>11 days 01:16:00</td>\n      <td>-9 days +19:28:00</td>\n    </tr>\n    <tr>\n      <th>169995</th>\n      <td>20101SG039611</td>\n      <td>20101</td>\n      <td>2B</td>\n      <td>216</td>\n      <td>CLH Balagtas</td>\n      <td>11642.0</td>\n      <td>2020-02-14 14:10:00</td>\n      <td>2020-02-14 14:12:00</td>\n      <td>2020-06-15</td>\n      <td>Redeemed</td>\n      <td>2B-NJ205365</td>\n      <td>JEWELRY-GOLD</td>\n      <td>ID BRACELET</td>\n      <td>4.8</td>\n      <td>18K</td>\n      <td>ID BRACELET,NA,</td>\n      <td>13</td>\n      <td>11642.40</td>\n      <td>PRD10</td>\n      <td>PRD10</td>\n      <td>465.68</td>\n      <td>201010543246</td>\n      <td>0.0</td>\n      <td>HEIDI MARIE</td>\n      <td>HERNANDEZ</td>\n      <td>CASTILLO</td>\n      <td>2020-02-14 14:12:00</td>\n      <td>51120</td>\n      <td>11001</td>\n      <td>8 days 04:32:00</td>\n      <td>-1 days +23:48:00</td>\n    </tr>\n    <tr>\n      <th>284896</th>\n      <td>20101SG039612</td>\n      <td>20101</td>\n      <td>2B</td>\n      <td>216</td>\n      <td>CLH Balagtas</td>\n      <td>17457.0</td>\n      <td>2020-02-14 14:23:00</td>\n      <td>2020-02-14 14:24:00</td>\n      <td>2020-06-15</td>\n      <td>Redeemed</td>\n      <td>2B-NJ205366</td>\n      <td>JEWELRY-GOLD</td>\n      <td>CURB LINK G</td>\n      <td>5.9</td>\n      <td>21K</td>\n      <td>CURB LINK G,NA,</td>\n      <td>13</td>\n      <td>17457.81</td>\n      <td>[None]</td>\n      <td>ecq</td>\n      <td>698.28</td>\n      <td>201010543246</td>\n      <td>0.0</td>\n      <td>HEIDI MARIE</td>\n      <td>HERNANDEZ</td>\n      <td>CASTILLO</td>\n      <td>2020-02-14 14:24:00</td>\n      <td>51840</td>\n      <td>11001</td>\n      <td>0 days 00:12:00</td>\n      <td>-4 days +02:26:00</td>\n    </tr>\n    <tr>\n      <th>320297</th>\n      <td>20101SG039673</td>\n      <td>20101</td>\n      <td>2B</td>\n      <td>216</td>\n      <td>CLH Balagtas</td>\n      <td>10375.0</td>\n      <td>2020-02-18 12:02:00</td>\n      <td>2020-02-18 11:58:00</td>\n      <td>2020-06-19</td>\n      <td>Redeemed</td>\n      <td>2B-NJ205506</td>\n      <td>JEWELRY-GOLD</td>\n      <td>FOXTAIL -NPG</td>\n      <td>4.9</td>\n      <td>18K</td>\n      <td>FOXTAIL -NPG,Others,star des</td>\n      <td>13</td>\n      <td>10375.75</td>\n      <td>RPAWN</td>\n      <td></td>\n      <td>415.00</td>\n      <td>201010543246</td>\n      <td>0.0</td>\n      <td>HEIDI MARIE</td>\n      <td>HERNANDEZ</td>\n      <td>CASTILLO</td>\n      <td>2020-02-18 11:58:00</td>\n      <td>43080</td>\n      <td>11005</td>\n      <td>3 days 21:34:00</td>\n      <td>-21 days +19:25:00</td>\n    </tr>\n    <tr>\n      <th>184297</th>\n      <td>20101SG039996</td>\n      <td>20101</td>\n      <td>2B</td>\n      <td>216</td>\n      <td>CLH Balagtas</td>\n      <td>4652.0</td>\n      <td>2020-03-09 16:38:00</td>\n      <td>2020-03-09 16:33:00</td>\n      <td>2020-07-08</td>\n      <td>Redeemed</td>\n      <td>2B-NJ206322</td>\n      <td>JEWELRY-GOLD</td>\n      <td>-</td>\n      <td>1.7</td>\n      <td>21K</td>\n      <td>-,Others,des</td>\n      <td>13</td>\n      <td>4652.90</td>\n      <td>[None]</td>\n      <td>ecq</td>\n      <td>186.08</td>\n      <td>201010543246</td>\n      <td>0.0</td>\n      <td>HEIDI MARIE</td>\n      <td>HERNANDEZ</td>\n      <td>CASTILLO</td>\n      <td>2020-03-09 16:33:00</td>\n      <td>59580</td>\n      <td>11025</td>\n      <td>20 days 04:35:00</td>\n      <td>-1 days +23:59:00</td>\n    </tr>\n    <tr>\n      <th>169290</th>\n      <td>20101SG039997</td>\n      <td>20101</td>\n      <td>2B</td>\n      <td>216</td>\n      <td>CLH Balagtas</td>\n      <td>5635.0</td>\n      <td>2020-03-09 16:39:00</td>\n      <td>2020-03-09 16:34:00</td>\n      <td>2020-07-08</td>\n      <td>Redeemed</td>\n      <td>2B-NJ206323</td>\n      <td>JEWELRY-GOLD</td>\n      <td>-</td>\n      <td>2.0</td>\n      <td>21K</td>\n      <td>-,Others,des</td>\n      <td>13</td>\n      <td>5635.00</td>\n      <td>[None]</td>\n      <td>ecq</td>\n      <td>225.40</td>\n      <td>201010543246</td>\n      <td>0.0</td>\n      <td>HEIDI MARIE</td>\n      <td>HERNANDEZ</td>\n      <td>CASTILLO</td>\n      <td>2020-03-09 16:34:00</td>\n      <td>59640</td>\n      <td>11025</td>\n      <td>0 days 00:01:00</td>\n      <td>-1 days +23:58:00</td>\n    </tr>\n    <tr>\n      <th>265005</th>\n      <td>20101SG039998</td>\n      <td>20101</td>\n      <td>2B</td>\n      <td>216</td>\n      <td>CLH Balagtas</td>\n      <td>4789.0</td>\n      <td>2020-03-09 16:41:00</td>\n      <td>2020-03-09 16:36:00</td>\n      <td>2020-07-08</td>\n      <td>Redeemed</td>\n      <td>2B-NJ206324</td>\n      <td>JEWELRY-GOLD</td>\n      <td>-</td>\n      <td>1.7</td>\n      <td>21K</td>\n      <td>-,Others,des</td>\n      <td>13</td>\n      <td>4789.75</td>\n      <td>[None]</td>\n      <td>ecq</td>\n      <td>191.56</td>\n      <td>201010543246</td>\n      <td>0.0</td>\n      <td>HEIDI MARIE</td>\n      <td>HERNANDEZ</td>\n      <td>CASTILLO</td>\n      <td>2020-03-09 16:36:00</td>\n      <td>59760</td>\n      <td>11025</td>\n      <td>0 days 00:02:00</td>\n      <td>-1 days +23:52:00</td>\n    </tr>\n    <tr>\n      <th>4375</th>\n      <td>20101SG039999</td>\n      <td>20101</td>\n      <td>2B</td>\n      <td>216</td>\n      <td>CLH Balagtas</td>\n      <td>2739.0</td>\n      <td>2020-03-09 16:42:00</td>\n      <td>2020-03-09 16:44:00</td>\n      <td>2020-07-08</td>\n      <td>Redeemed</td>\n      <td>2B-NJ206325</td>\n      <td>JEWELRY-GOLD</td>\n      <td>FLAT CHAIN  -PG</td>\n      <td>1.6</td>\n      <td>14K</td>\n      <td>FLAT CHAIN  -PG,NA,</td>\n      <td>13</td>\n      <td>2739.20</td>\n      <td>[None]</td>\n      <td>ecq</td>\n      <td>0.56</td>\n      <td>201010543246</td>\n      <td>0.0</td>\n      <td>HEIDI MARIE</td>\n      <td>HERNANDEZ</td>\n      <td>CASTILLO</td>\n      <td>2020-03-09 16:44:00</td>\n      <td>60240</td>\n      <td>11025</td>\n      <td>0 days 00:08:00</td>\n      <td>-94 days +07:22:00</td>\n    </tr>\n    <tr>\n      <th>67452</th>\n      <td>20101SG040294</td>\n      <td>20101</td>\n      <td>2B</td>\n      <td>216</td>\n      <td>CLH Balagtas</td>\n      <td>9660.0</td>\n      <td>2020-06-11 09:21:00</td>\n      <td>2020-06-11 09:22:00</td>\n      <td>2020-10-12</td>\n      <td>Redeemed</td>\n      <td>2B-NJ388863</td>\n      <td>JEWELRY-GOLD</td>\n      <td>-</td>\n      <td>4.6</td>\n      <td>18K</td>\n      <td>-,Others,chinese char</td>\n      <td>13</td>\n      <td>9660.00</td>\n      <td>[None]</td>\n      <td></td>\n      <td>386.40</td>\n      <td>201010543246</td>\n      <td>0.0</td>\n      <td>HEIDI MARIE</td>\n      <td>HERNANDEZ</td>\n      <td>CASTILLO</td>\n      <td>2020-06-11 09:22:00</td>\n      <td>33720</td>\n      <td>11119</td>\n      <td>93 days 16:38:00</td>\n      <td>-8 days +19:03:00</td>\n    </tr>\n    <tr>\n      <th>278988</th>\n      <td>20101SG040322</td>\n      <td>20101</td>\n      <td>2B</td>\n      <td>216</td>\n      <td>CLH Balagtas</td>\n      <td>2608.0</td>\n      <td>2020-06-18 14:18:00</td>\n      <td>2020-06-18 14:19:00</td>\n      <td>2020-10-19</td>\n      <td>Redeemed</td>\n      <td>2B-NJ389032</td>\n      <td>JEWELRY-GOLD</td>\n      <td>BRAIDED G</td>\n      <td>1.6</td>\n      <td>14K</td>\n      <td>BRAIDED G,NA,</td>\n      <td>13</td>\n      <td>2608.00</td>\n      <td>[None]</td>\n      <td></td>\n      <td>104.32</td>\n      <td>201010543246</td>\n      <td>0.0</td>\n      <td>HEIDI MARIE</td>\n      <td>HERNANDEZ</td>\n      <td>CASTILLO</td>\n      <td>2020-06-18 14:19:00</td>\n      <td>51540</td>\n      <td>11126</td>\n      <td>7 days 04:57:00</td>\n      <td>-60 days +00:28:00</td>\n    </tr>\n    <tr>\n      <th>18208</th>\n      <td>61458SG004899</td>\n      <td>61458</td>\n      <td>2B</td>\n      <td>216</td>\n      <td>CLH Balagtas Saint Anne Square</td>\n      <td>2850.0</td>\n      <td>2020-08-17 13:49:00</td>\n      <td>2020-08-17 13:51:00</td>\n      <td>2020-12-16</td>\n      <td>Redeemed</td>\n      <td>2B-NA281253</td>\n      <td>JEWELRY-GOLD</td>\n      <td>-</td>\n      <td>1.5</td>\n      <td>14K</td>\n      <td>-,Others,ear np chanel</td>\n      <td>13</td>\n      <td>2850.00</td>\n      <td>[None]</td>\n      <td></td>\n      <td>114.00</td>\n      <td>201010543246</td>\n      <td>0.0</td>\n      <td>HEIDI MARIE</td>\n      <td>HERNANDEZ</td>\n      <td>CASTILLO</td>\n      <td>2020-08-17 13:51:00</td>\n      <td>49860</td>\n      <td>11186</td>\n      <td>59 days 23:32:00</td>\n      <td>-10 days +03:36:00</td>\n    </tr>\n    <tr>\n      <th>257308</th>\n      <td>20101SG040692</td>\n      <td>20101</td>\n      <td>2B</td>\n      <td>216</td>\n      <td>CLH Balagtas</td>\n      <td>7680.0</td>\n      <td>2020-08-27 10:14:00</td>\n      <td>2020-08-27 10:15:00</td>\n      <td>2020-12-28</td>\n      <td>Redeemed</td>\n      <td>2B-NJ390518</td>\n      <td>JEWELRY-GOLD</td>\n      <td>CURB LINK G</td>\n      <td>3.2</td>\n      <td>18K</td>\n      <td>CURB LINK G,Others,w/tm</td>\n      <td>13</td>\n      <td>7680.00</td>\n      <td>[None]</td>\n      <td></td>\n      <td>307.20</td>\n      <td>201010543246</td>\n      <td>0.0</td>\n      <td>HEIDI MARIE</td>\n      <td>HERNANDEZ</td>\n      <td>CASTILLO</td>\n      <td>2020-08-27 10:15:00</td>\n      <td>36900</td>\n      <td>11196</td>\n      <td>9 days 20:24:00</td>\n      <td>-18 days +00:02:00</td>\n    </tr>\n    <tr>\n      <th>224807</th>\n      <td>20101SG040822</td>\n      <td>20101</td>\n      <td>2B</td>\n      <td>216</td>\n      <td>CLH Balagtas</td>\n      <td>6875.0</td>\n      <td>2020-09-14 10:12:00</td>\n      <td>2020-09-14 10:13:00</td>\n      <td>2021-01-13</td>\n      <td>Redeemed</td>\n      <td>2B-NJ390897</td>\n      <td>JEWELRY-GOLD</td>\n      <td>-</td>\n      <td>2.5</td>\n      <td>21K</td>\n      <td>-,Others,DAMASCUS</td>\n      <td>13</td>\n      <td>6875.00</td>\n      <td>[None]</td>\n      <td></td>\n      <td>275.00</td>\n      <td>201010543246</td>\n      <td>0.0</td>\n      <td>HEIDI MARIE</td>\n      <td>HERNANDEZ</td>\n      <td>CASTILLO</td>\n      <td>2020-09-14 10:13:00</td>\n      <td>36780</td>\n      <td>11214</td>\n      <td>17 days 23:58:00</td>\n      <td>-1 days +23:58:00</td>\n    </tr>\n    <tr>\n      <th>128658</th>\n      <td>20101SG040823</td>\n      <td>20101</td>\n      <td>2B</td>\n      <td>216</td>\n      <td>CLH Balagtas</td>\n      <td>5500.0</td>\n      <td>2020-09-14 10:14:00</td>\n      <td>2020-09-14 10:15:00</td>\n      <td>2021-01-13</td>\n      <td>Redeemed</td>\n      <td>2B-NJ390898</td>\n      <td>JEWELRY-GOLD</td>\n      <td>-</td>\n      <td>2.0</td>\n      <td>21K</td>\n      <td>-,Others,OPEN DOME</td>\n      <td>13</td>\n      <td>5500.00</td>\n      <td>[None]</td>\n      <td></td>\n      <td>220.00</td>\n      <td>201010543246</td>\n      <td>0.0</td>\n      <td>HEIDI MARIE</td>\n      <td>HERNANDEZ</td>\n      <td>CASTILLO</td>\n      <td>2020-09-14 10:15:00</td>\n      <td>36900</td>\n      <td>11214</td>\n      <td>0 days 00:02:00</td>\n      <td>-1 days +19:48:00</td>\n    </tr>\n  </tbody>\n</table>\n</div>"
     },
     "metadata": {},
     "output_type": "display_data"
    }
   ],
   "source": [
    "# Sort the DataFrame by 'fld_CustomerNo' and 'datetime'\n",
    "df = df.sort_values(by=['fld_CustomerNo', 'datetime'])\n",
    "\n",
    "# Calculate the preceding date interval\n",
    "df['preceding_date_interval'] = df['datetime'].diff()\n",
    "\n",
    "# Calculate the succeeding date interval\n",
    "df['succeeding_date_interval'] = df['datetime'].diff(-1)\n",
    "\n",
    "#df['min_interval'] = df[['preceding_date_interval', 'succeeding_date_interval']].apply(lambda row: min(abs(row)), axis=1)\n",
    "\n",
    "display(df.head(20))"
   ],
   "metadata": {
    "collapsed": false,
    "ExecuteTime": {
     "end_time": "2023-08-16T01:53:10.132112600Z",
     "start_time": "2023-08-16T01:53:10.086254400Z"
    }
   }
  },
  {
   "cell_type": "code",
   "execution_count": 10,
   "outputs": [
    {
     "data": {
      "text/plain": "             TicketNo fld_BranchCode fld_RegionCode fld_AreaCode fld_BranchName  PrincipalAmt            LoanDate         DateCreated ExpiryDate TransStatus       FormNo StorageGroupName DesignModelName  fld_Weight fld_Karat     fld_ItemDescription fld_StorageGroupID  fld_AppraiseValue PromoCode PromoReason  InterestNewPrenda fld_CustomerNo  new_PTStarRating fld_FirstName fld_MiddleName fld_LastName            datetime  time_numeric  date_numeric preceding_date_interval succeeding_date_interval  Total Amount After Promo  Discount Amount  Discount Percentage\n73591   20101SG038874          20101             2B          216   CLH Balagtas       10672.0 2019-12-28 12:02:00 2019-12-28 11:58:00 2020-04-27    Redeemed  2B-IQ430974     JEWELRY-GOLD               -         4.2       21K              -,Others,$                 13           10672.20    [None]         ecq             426.88   201010543246               0.0   HEIDI MARIE      HERNANDEZ     CASTILLO 2019-12-28 11:58:00         43080         10953                     NaT       -13 days +02:04:00                  10672.00             0.00                  0.0\n280101  20101SG039053          20101             2B          216   CLH Balagtas        6295.0 2020-01-10 09:57:00 2020-01-10 09:54:00 2020-05-11  Pulled-Out  2B-IQ431451     JEWELRY-GOLD               -         2.3       21K          -,Others,w/des                 13            6295.10     RPAWN                         251.80   201010543246               0.0   HEIDI MARIE      HERNANDEZ     CASTILLO 2020-01-10 09:54:00         35640         10966        12 days 21:56:00        -1 days +01:49:00                   6295.00             0.00                  0.0\n574     20101SG039069          20101             2B          216   CLH Balagtas        8211.0 2020-01-11 08:03:00 2020-01-11 08:05:00 2020-05-11    Redeemed  2B-IQ431476     JEWELRY-GOLD        ROPE -NG         2.0       18K            ROPE -NG,NA,                 13            8211.00     PRD15       prd15             328.44   201010543246               0.0   HEIDI MARIE      HERNANDEZ     CASTILLO 2020-01-11 08:05:00         29100         10967         0 days 22:11:00          0 days 00:00:00                   6979.35          1231.65                 15.0\n575     20101SG039069          20101             2B          216   CLH Balagtas        8211.0 2020-01-11 08:03:00 2020-01-11 08:05:00 2020-05-11    Redeemed  2B-IQ431476     JEWELRY-GOLD               -         1.2       21K  -,Others,heart \"A\" des                 13            8211.00     PRD15       prd15             328.44   201010543246               0.0   HEIDI MARIE      HERNANDEZ     CASTILLO 2020-01-11 08:05:00         29100         10967         0 days 00:00:00        -8 days +19:54:00                   6979.35          1231.65                 15.0\n100836  20101SG039167          20101             2B          216   CLH Balagtas        6480.0 2020-01-18 12:08:00 2020-01-18 12:11:00 2020-05-18    Redeemed  2B-NJ204251     JEWELRY-GOLD            HOOK         2.3       21K       HOOK,Others,heart                 13            6480.25     PRD15  reg client             259.20   201010543246               0.0   HEIDI MARIE      HERNANDEZ     CASTILLO 2020-01-18 12:11:00         43860         10974         7 days 04:06:00        -8 days +03:47:00                   5508.00           972.00                 15.0",
      "text/html": "<div>\n<style scoped>\n    .dataframe tbody tr th:only-of-type {\n        vertical-align: middle;\n    }\n\n    .dataframe tbody tr th {\n        vertical-align: top;\n    }\n\n    .dataframe thead th {\n        text-align: right;\n    }\n</style>\n<table border=\"1\" class=\"dataframe\">\n  <thead>\n    <tr style=\"text-align: right;\">\n      <th></th>\n      <th>TicketNo</th>\n      <th>fld_BranchCode</th>\n      <th>fld_RegionCode</th>\n      <th>fld_AreaCode</th>\n      <th>fld_BranchName</th>\n      <th>PrincipalAmt</th>\n      <th>LoanDate</th>\n      <th>DateCreated</th>\n      <th>ExpiryDate</th>\n      <th>TransStatus</th>\n      <th>FormNo</th>\n      <th>StorageGroupName</th>\n      <th>DesignModelName</th>\n      <th>fld_Weight</th>\n      <th>fld_Karat</th>\n      <th>fld_ItemDescription</th>\n      <th>fld_StorageGroupID</th>\n      <th>fld_AppraiseValue</th>\n      <th>PromoCode</th>\n      <th>PromoReason</th>\n      <th>InterestNewPrenda</th>\n      <th>fld_CustomerNo</th>\n      <th>new_PTStarRating</th>\n      <th>fld_FirstName</th>\n      <th>fld_MiddleName</th>\n      <th>fld_LastName</th>\n      <th>datetime</th>\n      <th>time_numeric</th>\n      <th>date_numeric</th>\n      <th>preceding_date_interval</th>\n      <th>succeeding_date_interval</th>\n      <th>Total Amount After Promo</th>\n      <th>Discount Amount</th>\n      <th>Discount Percentage</th>\n    </tr>\n  </thead>\n  <tbody>\n    <tr>\n      <th>73591</th>\n      <td>20101SG038874</td>\n      <td>20101</td>\n      <td>2B</td>\n      <td>216</td>\n      <td>CLH Balagtas</td>\n      <td>10672.0</td>\n      <td>2019-12-28 12:02:00</td>\n      <td>2019-12-28 11:58:00</td>\n      <td>2020-04-27</td>\n      <td>Redeemed</td>\n      <td>2B-IQ430974</td>\n      <td>JEWELRY-GOLD</td>\n      <td>-</td>\n      <td>4.2</td>\n      <td>21K</td>\n      <td>-,Others,$</td>\n      <td>13</td>\n      <td>10672.20</td>\n      <td>[None]</td>\n      <td>ecq</td>\n      <td>426.88</td>\n      <td>201010543246</td>\n      <td>0.0</td>\n      <td>HEIDI MARIE</td>\n      <td>HERNANDEZ</td>\n      <td>CASTILLO</td>\n      <td>2019-12-28 11:58:00</td>\n      <td>43080</td>\n      <td>10953</td>\n      <td>NaT</td>\n      <td>-13 days +02:04:00</td>\n      <td>10672.00</td>\n      <td>0.00</td>\n      <td>0.0</td>\n    </tr>\n    <tr>\n      <th>280101</th>\n      <td>20101SG039053</td>\n      <td>20101</td>\n      <td>2B</td>\n      <td>216</td>\n      <td>CLH Balagtas</td>\n      <td>6295.0</td>\n      <td>2020-01-10 09:57:00</td>\n      <td>2020-01-10 09:54:00</td>\n      <td>2020-05-11</td>\n      <td>Pulled-Out</td>\n      <td>2B-IQ431451</td>\n      <td>JEWELRY-GOLD</td>\n      <td>-</td>\n      <td>2.3</td>\n      <td>21K</td>\n      <td>-,Others,w/des</td>\n      <td>13</td>\n      <td>6295.10</td>\n      <td>RPAWN</td>\n      <td></td>\n      <td>251.80</td>\n      <td>201010543246</td>\n      <td>0.0</td>\n      <td>HEIDI MARIE</td>\n      <td>HERNANDEZ</td>\n      <td>CASTILLO</td>\n      <td>2020-01-10 09:54:00</td>\n      <td>35640</td>\n      <td>10966</td>\n      <td>12 days 21:56:00</td>\n      <td>-1 days +01:49:00</td>\n      <td>6295.00</td>\n      <td>0.00</td>\n      <td>0.0</td>\n    </tr>\n    <tr>\n      <th>574</th>\n      <td>20101SG039069</td>\n      <td>20101</td>\n      <td>2B</td>\n      <td>216</td>\n      <td>CLH Balagtas</td>\n      <td>8211.0</td>\n      <td>2020-01-11 08:03:00</td>\n      <td>2020-01-11 08:05:00</td>\n      <td>2020-05-11</td>\n      <td>Redeemed</td>\n      <td>2B-IQ431476</td>\n      <td>JEWELRY-GOLD</td>\n      <td>ROPE -NG</td>\n      <td>2.0</td>\n      <td>18K</td>\n      <td>ROPE -NG,NA,</td>\n      <td>13</td>\n      <td>8211.00</td>\n      <td>PRD15</td>\n      <td>prd15</td>\n      <td>328.44</td>\n      <td>201010543246</td>\n      <td>0.0</td>\n      <td>HEIDI MARIE</td>\n      <td>HERNANDEZ</td>\n      <td>CASTILLO</td>\n      <td>2020-01-11 08:05:00</td>\n      <td>29100</td>\n      <td>10967</td>\n      <td>0 days 22:11:00</td>\n      <td>0 days 00:00:00</td>\n      <td>6979.35</td>\n      <td>1231.65</td>\n      <td>15.0</td>\n    </tr>\n    <tr>\n      <th>575</th>\n      <td>20101SG039069</td>\n      <td>20101</td>\n      <td>2B</td>\n      <td>216</td>\n      <td>CLH Balagtas</td>\n      <td>8211.0</td>\n      <td>2020-01-11 08:03:00</td>\n      <td>2020-01-11 08:05:00</td>\n      <td>2020-05-11</td>\n      <td>Redeemed</td>\n      <td>2B-IQ431476</td>\n      <td>JEWELRY-GOLD</td>\n      <td>-</td>\n      <td>1.2</td>\n      <td>21K</td>\n      <td>-,Others,heart \"A\" des</td>\n      <td>13</td>\n      <td>8211.00</td>\n      <td>PRD15</td>\n      <td>prd15</td>\n      <td>328.44</td>\n      <td>201010543246</td>\n      <td>0.0</td>\n      <td>HEIDI MARIE</td>\n      <td>HERNANDEZ</td>\n      <td>CASTILLO</td>\n      <td>2020-01-11 08:05:00</td>\n      <td>29100</td>\n      <td>10967</td>\n      <td>0 days 00:00:00</td>\n      <td>-8 days +19:54:00</td>\n      <td>6979.35</td>\n      <td>1231.65</td>\n      <td>15.0</td>\n    </tr>\n    <tr>\n      <th>100836</th>\n      <td>20101SG039167</td>\n      <td>20101</td>\n      <td>2B</td>\n      <td>216</td>\n      <td>CLH Balagtas</td>\n      <td>6480.0</td>\n      <td>2020-01-18 12:08:00</td>\n      <td>2020-01-18 12:11:00</td>\n      <td>2020-05-18</td>\n      <td>Redeemed</td>\n      <td>2B-NJ204251</td>\n      <td>JEWELRY-GOLD</td>\n      <td>HOOK</td>\n      <td>2.3</td>\n      <td>21K</td>\n      <td>HOOK,Others,heart</td>\n      <td>13</td>\n      <td>6480.25</td>\n      <td>PRD15</td>\n      <td>reg client</td>\n      <td>259.20</td>\n      <td>201010543246</td>\n      <td>0.0</td>\n      <td>HEIDI MARIE</td>\n      <td>HERNANDEZ</td>\n      <td>CASTILLO</td>\n      <td>2020-01-18 12:11:00</td>\n      <td>43860</td>\n      <td>10974</td>\n      <td>7 days 04:06:00</td>\n      <td>-8 days +03:47:00</td>\n      <td>5508.00</td>\n      <td>972.00</td>\n      <td>15.0</td>\n    </tr>\n  </tbody>\n</table>\n</div>"
     },
     "metadata": {},
     "output_type": "display_data"
    }
   ],
   "source": [
    "import pandas as pd\n",
    "\n",
    "principal = df['PrincipalAmt']\n",
    "promo_code = df['PromoCode']\n",
    "\n",
    "# Define a function to calculate the total amount after applying the promo code\n",
    "def calculate_total(principal, promo_code):\n",
    "    # Example promo code rules\n",
    "    discounts = {'PRD5': 0.05, 'PRD10': 0.1, 'PRD15': 0.15, 'NPPRD5': 0.5, 'NPPRD10': 0.10, 'NPPRD15': 0.15, 'NPPRD30':0.30, 'NPPRD50': 0.50, 'NPPRD200': 2}\n",
    "\n",
    "    discount_percentage = discounts.get(promo_code, 0)\n",
    "    discount_amount = principal * discount_percentage\n",
    "    total_amount = principal - discount_amount\n",
    "    return total_amount, discount_amount, discount_percentage * 100\n",
    "\n",
    "# Apply the calculate_total function to the PrincipalAmt and PromoCode columns\n",
    "df[['Total Amount After Promo', 'Discount Amount', 'Discount Percentage']] = df.apply(lambda row: calculate_total(row['PrincipalAmt'], row['PromoCode']), axis=1, result_type='expand')\n",
    "\n",
    "display(df.head())"
   ],
   "metadata": {
    "collapsed": false,
    "ExecuteTime": {
     "end_time": "2023-08-16T05:15:40.118697900Z",
     "start_time": "2023-08-16T05:15:39.824856600Z"
    }
   }
  },
  {
   "cell_type": "code",
   "execution_count": 15,
   "outputs": [
    {
     "data": {
      "text/plain": "             TicketNo fld_BranchCode fld_RegionCode fld_AreaCode fld_BranchName  PrincipalAmt            LoanDate         DateCreated ExpiryDate TransStatus       FormNo StorageGroupName DesignModelName  fld_Weight fld_Karat     fld_ItemDescription fld_StorageGroupID  fld_AppraiseValue  PromoCode PromoReason  InterestNewPrenda fld_CustomerNo  new_PTStarRating fld_FirstName fld_MiddleName fld_LastName            datetime  time_numeric  date_numeric preceding_date_interval succeeding_date_interval  Total Amount After Promo\n73591   20101SG038874          20101             2B          216   CLH Balagtas       10672.0 2019-12-28 12:02:00 2019-12-28 11:58:00 2020-04-27    Redeemed  2B-IQ430974     JEWELRY-GOLD               -         4.2       21K              -,Others,$                 13           10672.20         10         ecq             426.88   201010543246               0.0   HEIDI MARIE      HERNANDEZ     CASTILLO 2019-12-28 11:58:00         43080         10953                     NaT       -13 days +02:04:00                   10672.0\n280101  20101SG039053          20101             2B          216   CLH Balagtas        6295.0 2020-01-10 09:57:00 2020-01-10 09:54:00 2020-05-11  Pulled-Out  2B-IQ431451     JEWELRY-GOLD               -         2.3       21K          -,Others,w/des                 13            6295.10          8                         251.80   201010543246               0.0   HEIDI MARIE      HERNANDEZ     CASTILLO 2020-01-10 09:54:00         35640         10966        12 days 21:56:00        -1 days +01:49:00                    6295.0\n574     20101SG039069          20101             2B          216   CLH Balagtas        8211.0 2020-01-11 08:03:00 2020-01-11 08:05:00 2020-05-11    Redeemed  2B-IQ431476     JEWELRY-GOLD        ROPE -NG         2.0       18K            ROPE -NG,NA,                 13            8211.00          4       prd15             328.44   201010543246               0.0   HEIDI MARIE      HERNANDEZ     CASTILLO 2020-01-11 08:05:00         29100         10967         0 days 22:11:00          0 days 00:00:00                    8211.0\n575     20101SG039069          20101             2B          216   CLH Balagtas        8211.0 2020-01-11 08:03:00 2020-01-11 08:05:00 2020-05-11    Redeemed  2B-IQ431476     JEWELRY-GOLD               -         1.2       21K  -,Others,heart \"A\" des                 13            8211.00          4       prd15             328.44   201010543246               0.0   HEIDI MARIE      HERNANDEZ     CASTILLO 2020-01-11 08:05:00         29100         10967         0 days 00:00:00        -8 days +19:54:00                    8211.0\n100836  20101SG039167          20101             2B          216   CLH Balagtas        6480.0 2020-01-18 12:08:00 2020-01-18 12:11:00 2020-05-18    Redeemed  2B-NJ204251     JEWELRY-GOLD            HOOK         2.3       21K       HOOK,Others,heart                 13            6480.25          4  reg client             259.20   201010543246               0.0   HEIDI MARIE      HERNANDEZ     CASTILLO 2020-01-18 12:11:00         43860         10974         7 days 04:06:00        -8 days +03:47:00                    6480.0",
      "text/html": "<div>\n<style scoped>\n    .dataframe tbody tr th:only-of-type {\n        vertical-align: middle;\n    }\n\n    .dataframe tbody tr th {\n        vertical-align: top;\n    }\n\n    .dataframe thead th {\n        text-align: right;\n    }\n</style>\n<table border=\"1\" class=\"dataframe\">\n  <thead>\n    <tr style=\"text-align: right;\">\n      <th></th>\n      <th>TicketNo</th>\n      <th>fld_BranchCode</th>\n      <th>fld_RegionCode</th>\n      <th>fld_AreaCode</th>\n      <th>fld_BranchName</th>\n      <th>PrincipalAmt</th>\n      <th>LoanDate</th>\n      <th>DateCreated</th>\n      <th>ExpiryDate</th>\n      <th>TransStatus</th>\n      <th>FormNo</th>\n      <th>StorageGroupName</th>\n      <th>DesignModelName</th>\n      <th>fld_Weight</th>\n      <th>fld_Karat</th>\n      <th>fld_ItemDescription</th>\n      <th>fld_StorageGroupID</th>\n      <th>fld_AppraiseValue</th>\n      <th>PromoCode</th>\n      <th>PromoReason</th>\n      <th>InterestNewPrenda</th>\n      <th>fld_CustomerNo</th>\n      <th>new_PTStarRating</th>\n      <th>fld_FirstName</th>\n      <th>fld_MiddleName</th>\n      <th>fld_LastName</th>\n      <th>datetime</th>\n      <th>time_numeric</th>\n      <th>date_numeric</th>\n      <th>preceding_date_interval</th>\n      <th>succeeding_date_interval</th>\n      <th>Total Amount After Promo</th>\n    </tr>\n  </thead>\n  <tbody>\n    <tr>\n      <th>73591</th>\n      <td>20101SG038874</td>\n      <td>20101</td>\n      <td>2B</td>\n      <td>216</td>\n      <td>CLH Balagtas</td>\n      <td>10672.0</td>\n      <td>2019-12-28 12:02:00</td>\n      <td>2019-12-28 11:58:00</td>\n      <td>2020-04-27</td>\n      <td>Redeemed</td>\n      <td>2B-IQ430974</td>\n      <td>JEWELRY-GOLD</td>\n      <td>-</td>\n      <td>4.2</td>\n      <td>21K</td>\n      <td>-,Others,$</td>\n      <td>13</td>\n      <td>10672.20</td>\n      <td>10</td>\n      <td>ecq</td>\n      <td>426.88</td>\n      <td>201010543246</td>\n      <td>0.0</td>\n      <td>HEIDI MARIE</td>\n      <td>HERNANDEZ</td>\n      <td>CASTILLO</td>\n      <td>2019-12-28 11:58:00</td>\n      <td>43080</td>\n      <td>10953</td>\n      <td>NaT</td>\n      <td>-13 days +02:04:00</td>\n      <td>10672.0</td>\n    </tr>\n    <tr>\n      <th>280101</th>\n      <td>20101SG039053</td>\n      <td>20101</td>\n      <td>2B</td>\n      <td>216</td>\n      <td>CLH Balagtas</td>\n      <td>6295.0</td>\n      <td>2020-01-10 09:57:00</td>\n      <td>2020-01-10 09:54:00</td>\n      <td>2020-05-11</td>\n      <td>Pulled-Out</td>\n      <td>2B-IQ431451</td>\n      <td>JEWELRY-GOLD</td>\n      <td>-</td>\n      <td>2.3</td>\n      <td>21K</td>\n      <td>-,Others,w/des</td>\n      <td>13</td>\n      <td>6295.10</td>\n      <td>8</td>\n      <td></td>\n      <td>251.80</td>\n      <td>201010543246</td>\n      <td>0.0</td>\n      <td>HEIDI MARIE</td>\n      <td>HERNANDEZ</td>\n      <td>CASTILLO</td>\n      <td>2020-01-10 09:54:00</td>\n      <td>35640</td>\n      <td>10966</td>\n      <td>12 days 21:56:00</td>\n      <td>-1 days +01:49:00</td>\n      <td>6295.0</td>\n    </tr>\n    <tr>\n      <th>574</th>\n      <td>20101SG039069</td>\n      <td>20101</td>\n      <td>2B</td>\n      <td>216</td>\n      <td>CLH Balagtas</td>\n      <td>8211.0</td>\n      <td>2020-01-11 08:03:00</td>\n      <td>2020-01-11 08:05:00</td>\n      <td>2020-05-11</td>\n      <td>Redeemed</td>\n      <td>2B-IQ431476</td>\n      <td>JEWELRY-GOLD</td>\n      <td>ROPE -NG</td>\n      <td>2.0</td>\n      <td>18K</td>\n      <td>ROPE -NG,NA,</td>\n      <td>13</td>\n      <td>8211.00</td>\n      <td>4</td>\n      <td>prd15</td>\n      <td>328.44</td>\n      <td>201010543246</td>\n      <td>0.0</td>\n      <td>HEIDI MARIE</td>\n      <td>HERNANDEZ</td>\n      <td>CASTILLO</td>\n      <td>2020-01-11 08:05:00</td>\n      <td>29100</td>\n      <td>10967</td>\n      <td>0 days 22:11:00</td>\n      <td>0 days 00:00:00</td>\n      <td>8211.0</td>\n    </tr>\n    <tr>\n      <th>575</th>\n      <td>20101SG039069</td>\n      <td>20101</td>\n      <td>2B</td>\n      <td>216</td>\n      <td>CLH Balagtas</td>\n      <td>8211.0</td>\n      <td>2020-01-11 08:03:00</td>\n      <td>2020-01-11 08:05:00</td>\n      <td>2020-05-11</td>\n      <td>Redeemed</td>\n      <td>2B-IQ431476</td>\n      <td>JEWELRY-GOLD</td>\n      <td>-</td>\n      <td>1.2</td>\n      <td>21K</td>\n      <td>-,Others,heart \"A\" des</td>\n      <td>13</td>\n      <td>8211.00</td>\n      <td>4</td>\n      <td>prd15</td>\n      <td>328.44</td>\n      <td>201010543246</td>\n      <td>0.0</td>\n      <td>HEIDI MARIE</td>\n      <td>HERNANDEZ</td>\n      <td>CASTILLO</td>\n      <td>2020-01-11 08:05:00</td>\n      <td>29100</td>\n      <td>10967</td>\n      <td>0 days 00:00:00</td>\n      <td>-8 days +19:54:00</td>\n      <td>8211.0</td>\n    </tr>\n    <tr>\n      <th>100836</th>\n      <td>20101SG039167</td>\n      <td>20101</td>\n      <td>2B</td>\n      <td>216</td>\n      <td>CLH Balagtas</td>\n      <td>6480.0</td>\n      <td>2020-01-18 12:08:00</td>\n      <td>2020-01-18 12:11:00</td>\n      <td>2020-05-18</td>\n      <td>Redeemed</td>\n      <td>2B-NJ204251</td>\n      <td>JEWELRY-GOLD</td>\n      <td>HOOK</td>\n      <td>2.3</td>\n      <td>21K</td>\n      <td>HOOK,Others,heart</td>\n      <td>13</td>\n      <td>6480.25</td>\n      <td>4</td>\n      <td>reg client</td>\n      <td>259.20</td>\n      <td>201010543246</td>\n      <td>0.0</td>\n      <td>HEIDI MARIE</td>\n      <td>HERNANDEZ</td>\n      <td>CASTILLO</td>\n      <td>2020-01-18 12:11:00</td>\n      <td>43860</td>\n      <td>10974</td>\n      <td>7 days 04:06:00</td>\n      <td>-8 days +03:47:00</td>\n      <td>6480.0</td>\n    </tr>\n  </tbody>\n</table>\n</div>"
     },
     "metadata": {},
     "output_type": "display_data"
    }
   ],
   "source": [
    "principal = df['PrincipalAmt']\n",
    "promo_code = df['PromoCode']\n",
    "\n",
    "# Define a function to calculate the total amount after applying the promo code\n",
    "def calculate_total(principal, promo_code):\n",
    "    # Example promo code rules\n",
    "    if promo_code == 'PRD5':\n",
    "        discount = 0.05  # 5% discount\n",
    "    elif promo_code == 'PRD10':\n",
    "        discount = 0.1  # 10% discount\n",
    "    elif promo_code == 'PRD15':\n",
    "        discount = 0.15  # 15% discount\n",
    "    else:\n",
    "        discount = 0  # No discount\n",
    "\n",
    "    total_amount = principal * (1 - discount)\n",
    "    return total_amount\n",
    "\n",
    "# Apply the calculate_total function to the Principal Amount column\n",
    "df['Total Amount After Promo'] = df.apply(lambda row: calculate_total(row['PrincipalAmt'], row['PromoCode']), axis=1)\n",
    "\n",
    "display(df.head())"
   ],
   "metadata": {
    "collapsed": false,
    "ExecuteTime": {
     "end_time": "2023-08-16T01:48:53.548021200Z",
     "start_time": "2023-08-16T01:48:53.297206Z"
    }
   }
  },
  {
   "cell_type": "code",
   "execution_count": null,
   "outputs": [],
   "source": [
    "# Sort the DataFrame by 'fld_CustomerNo' and 'datetime'\n",
    "df = df.sort_values(by=['fld_CustomerNo', 'datetime'])\n",
    "\n",
    "# Calculate the time interval between transactions for each client\n",
    "df['time_interval'] = df['datetime'].diff()\n",
    "\n",
    "# Calculate the minimum time interval between current and preceding transactions\n",
    "df['interval_preceding'] = df.groupby('fld_CustomerNo')['time_interval'].shift(1).fillna(pd.Timedelta(seconds=999999))\n",
    "\n",
    "# Calculate the minimum time interval between current and succeeding transactions\n",
    "df['interval_succeeding'] = df.groupby('fld_CustomerNo')['datetime'].diff(-1).fillna(pd.Timedelta(seconds=999999))\n",
    "\n",
    "#df['min_interval'] = df[['interval_preceding', 'interval_succeeding']].apply(lambda row: min(abs(row)), axis=1)\n",
    "\n",
    "#min dalawal, but if isa lang abail edi ung isa lang''\n",
    "\n",
    "display(df.head(20))\n"
   ],
   "metadata": {
    "collapsed": false
   }
  },
  {
   "cell_type": "code",
   "execution_count": null,
   "outputs": [],
   "source": [
    "import pandas as pd\n",
    "\n",
    "# Assuming you have your DataFrame 'df'\n",
    "\n",
    "# Parsing datetime and numeric values\n",
    "df['datetime'] = pd.to_datetime(df['DateCreated'])\n",
    "df['time_numeric'] = df['datetime'].dt.hour * 3600 \\\n",
    "                     + df['datetime'].dt.minute * 60 + df['datetime'].dt.second\n",
    "df['date_numeric'] = (df['datetime'] - pd.to_datetime('1990-01-01')).dt.days\n",
    "\n",
    "# Sort the DataFrame by 'fld_CustomerNo' and 'datetime'\n",
    "df = df.sort_values(by=['fld_CustomerNo', 'datetime'])\n",
    "\n",
    "# Calculate the time interval between transactions for each client\n",
    "df['time_interval'] = df['datetime'].diff()\n",
    "\n",
    "display(df.head())\n"
   ],
   "metadata": {
    "collapsed": false
   }
  },
  {
   "cell_type": "code",
   "execution_count": 9,
   "outputs": [
    {
     "data": {
      "text/plain": "array([10,  8,  4,  3,  0,  5,  1,  7,  6,  9,  2])"
     },
     "execution_count": 9,
     "metadata": {},
     "output_type": "execute_result"
    }
   ],
   "source": [
    "# Encoding Labels\n",
    "#from sklearn.preprocessing import LabelEncoder\n",
    "#label_encoder = LabelEncoder()\n",
    "#df['CustomerNo'] = label_encoder.fit_transform(df['fld_CustomerNo'])\n",
    "#df['fld_CustomerNo'].unique()\n",
    "#df['trans_status'] = label_encoder.fit_transform(df['TransStatus'])\n",
    "#df['TransStatus'].unique()"
   ],
   "metadata": {
    "collapsed": false,
    "ExecuteTime": {
     "end_time": "2023-08-16T01:31:57.145520100Z",
     "start_time": "2023-08-16T01:31:57.122004Z"
    }
   }
  },
  {
   "cell_type": "code",
   "execution_count": null,
   "outputs": [],
   "source": [
    "# Group by 'fld_CustomerNo' and sum the 'PrincipalAmt' for sold transactions\n",
    "grouped_df = df.groupby(['fld_CustomerNo', 'TransStatus'])['PrincipalAmt'].sum().reset_index()\n",
    "\n",
    "# Display the first few rows of the DataFrame\n",
    "display(grouped_df.head(100))"
   ],
   "metadata": {
    "collapsed": false
   }
  },
  {
   "cell_type": "code",
   "execution_count": null,
   "outputs": [],
   "source": [
    "# Group by 'fld_CustomerNo' and sum the columns\n",
    "grouped_df = pd.concat([\n",
    "    df.groupby('fld_CustomerNo')['PrincipalAmt'].sum().rename('sum_prin'),\n",
    "    df.groupby('fld_CustomerNo').size().rename('count_trans'),\n",
    "    df.groupby('fld_CustomerNo')['fld_AppraiseValue'].sum().rename('sum_appraise'),\n",
    "    df.groupby('fld_CustomerNo')['TransStatus'].apply(lambda x: (x == 'Redeemed').sum()).rename('count_redeemed'),\n",
    "    df.groupby('fld_CustomerNo')['TransStatus'].apply(lambda x: (x == 'Sold').sum()).rename('count_sold'),\n",
    "    df.groupby('fld_CustomerNo')['TransStatus'].apply(lambda x: (x == 'Pulled-Out').sum()).rename('count_pulled_out'),\n",
    "    df.groupby('fld_CustomerNo')['TransStatus'].apply(lambda x: (x == 'Renewed').sum()).rename('count_renewed'),\n",
    "    df.groupby('fld_CustomerNo')['TransStatus'].apply(lambda x: (x == 'Expired').sum()).rename('count_expired'),\n",
    "    df.groupby('fld_CustomerNo')['TransStatus'].apply(lambda x: (x == 'New Prenda').sum()).rename('count_new_prenda'),\n",
    "], axis=1)\n",
    "\n",
    "# Apply a condition to filter rows with sum less than or equal to 10\n",
    "condition = grouped_df['count_sold'] <= 250\n",
    "filtered_grouped_df = grouped_df[condition]\n",
    "\n",
    "# Display the first few rows of the DataFrame\n",
    "display(filtered_grouped_df.head(100))\n"
   ],
   "metadata": {
    "collapsed": false
   }
  },
  {
   "cell_type": "code",
   "execution_count": null,
   "outputs": [],
   "source": [
    "import pyarrow as pa\n",
    "import pyarrow.parquet as pq\n",
    "\n",
    "table = pa.Table.from_pandas(filtered_grouped_df)\n",
    "\n",
    "# Specify the file path where you want to save the Parquet file\n",
    "file_path = 'Data/Np_filtered.parquet'\n",
    "\n",
    "# Write the table to a Parquet file\n",
    "pq.write_table(table, file_path)"
   ],
   "metadata": {
    "collapsed": false
   }
  },
  {
   "cell_type": "code",
   "execution_count": null,
   "outputs": [],
   "source": [
    "#Storing of data per client"
   ],
   "metadata": {
    "collapsed": false
   }
  },
  {
   "cell_type": "code",
   "execution_count": null,
   "outputs": [],
   "source": [],
   "metadata": {
    "collapsed": false
   }
  }
 ],
 "metadata": {
  "kernelspec": {
   "display_name": "Python 3",
   "language": "python",
   "name": "python3"
  },
  "language_info": {
   "codemirror_mode": {
    "name": "ipython",
    "version": 2
   },
   "file_extension": ".py",
   "mimetype": "text/x-python",
   "name": "python",
   "nbconvert_exporter": "python",
   "pygments_lexer": "ipython2",
   "version": "2.7.6"
  }
 },
 "nbformat": 4,
 "nbformat_minor": 0
}
