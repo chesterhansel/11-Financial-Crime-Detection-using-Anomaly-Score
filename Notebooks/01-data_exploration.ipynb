{
 "cells": [
  {
   "cell_type": "code",
   "execution_count": 4,
   "outputs": [],
   "source": [
    "### Comprehensive check for initial data exploration\n",
    "### Checking of: Nulls, Uniqueness, Categories, and Basic Statistics\n",
    "### by: Chester Hansel Duco, Philippines"
   ],
   "metadata": {
    "collapsed": false,
    "ExecuteTime": {
     "end_time": "2023-08-11T04:15:27.510569900Z",
     "start_time": "2023-08-11T04:15:27.495760400Z"
    }
   }
  },
  {
   "cell_type": "code",
   "execution_count": 5,
   "outputs": [],
   "source": [
    "import pandas as pd\n",
    "import matplotlib.pyplot as plt"
   ],
   "metadata": {
    "collapsed": false,
    "ExecuteTime": {
     "end_time": "2023-08-11T04:15:28.053853100Z",
     "start_time": "2023-08-11T04:15:28.041866Z"
    }
   }
  },
  {
   "cell_type": "code",
   "execution_count": 6,
   "outputs": [],
   "source": [
    "# Read the Parquet file into a DataFrame\n",
    "df = pd.read_parquet('../Data/np_216.parquet')"
   ],
   "metadata": {
    "collapsed": false,
    "ExecuteTime": {
     "end_time": "2023-08-11T04:15:29.633179800Z",
     "start_time": "2023-08-11T04:15:28.468609100Z"
    }
   }
  },
  {
   "cell_type": "code",
   "execution_count": 7,
   "outputs": [
    {
     "name": "stdout",
     "output_type": "stream",
     "text": [
      "(325307, 27)\n"
     ]
    },
    {
     "data": {
      "text/plain": "        TicketNo fld_BranchCode fld_RegionCode fld_AreaCode  \\\n0  61355SG011334          61355             2B          216   \n1  61355SG009783          61355             2B          216   \n2  20112SG037342          20112             2B          216   \n3  20112SG043933          20112             2B          216   \n4  20112SG037072          20112             2B          216   \n\n              fld_BranchName  PrincipalAmt            LoanDate  \\\n0  CLH Calumpit Pio Cruzcosa        1000.0 2022-01-11 16:55:00   \n1  CLH Calumpit Pio Cruzcosa        3400.0 2021-05-18 09:30:00   \n2               CLH Plaridel        2934.0 2020-01-25 16:31:00   \n3               CLH Plaridel        7000.0 2021-12-30 08:56:00   \n4               CLH Plaridel        3215.0 2020-01-10 12:29:00   \n\n          DateCreated ExpiryDate TransStatus  ... fld_StorageGroupID  \\\n0 2022-01-11 16:56:00 2022-05-13  Pulled-Out  ...                 13   \n1 2021-05-18 09:37:00 2021-09-17    Redeemed  ...                 13   \n2 2020-01-25 16:32:00 2020-05-25    Redeemed  ...                 13   \n3 2021-12-30 08:57:00 2022-05-02    Redeemed  ...                 13   \n4 2020-01-10 12:31:00 2020-05-11    Redeemed  ...                 13   \n\n  fld_AppraiseValue PromoCode  PromoReason InterestNewPrenda fld_CustomerNo  \\\n0           1000.00    [None]                          40.00   613550043993   \n1           4320.00    [None]                         136.00   613550066718   \n2           2934.00    [None]                         117.36   201120185053   \n3           7250.00    [None]                         280.00   201120373900   \n4           3352.25    [None]                         128.60   201120252953   \n\n  new_PTStarRating fld_FirstName  fld_MiddleName fld_LastName  \n0              NaN        NENITA       FRANCISCO     ESPIRITU  \n1              NaN   TRISTAN JAY          OFIAZA        ROXAS  \n2              NaN        ELVIRA              G.          LIM  \n3              NaN       MA NILA           TULOP      MERABIL  \n4              NaN     ROSEMARIE          CUTLER    KATSUMATA  \n\n[5 rows x 27 columns]",
      "text/html": "<div>\n<style scoped>\n    .dataframe tbody tr th:only-of-type {\n        vertical-align: middle;\n    }\n\n    .dataframe tbody tr th {\n        vertical-align: top;\n    }\n\n    .dataframe thead th {\n        text-align: right;\n    }\n</style>\n<table border=\"1\" class=\"dataframe\">\n  <thead>\n    <tr style=\"text-align: right;\">\n      <th></th>\n      <th>TicketNo</th>\n      <th>fld_BranchCode</th>\n      <th>fld_RegionCode</th>\n      <th>fld_AreaCode</th>\n      <th>fld_BranchName</th>\n      <th>PrincipalAmt</th>\n      <th>LoanDate</th>\n      <th>DateCreated</th>\n      <th>ExpiryDate</th>\n      <th>TransStatus</th>\n      <th>...</th>\n      <th>fld_StorageGroupID</th>\n      <th>fld_AppraiseValue</th>\n      <th>PromoCode</th>\n      <th>PromoReason</th>\n      <th>InterestNewPrenda</th>\n      <th>fld_CustomerNo</th>\n      <th>new_PTStarRating</th>\n      <th>fld_FirstName</th>\n      <th>fld_MiddleName</th>\n      <th>fld_LastName</th>\n    </tr>\n  </thead>\n  <tbody>\n    <tr>\n      <th>0</th>\n      <td>61355SG011334</td>\n      <td>61355</td>\n      <td>2B</td>\n      <td>216</td>\n      <td>CLH Calumpit Pio Cruzcosa</td>\n      <td>1000.0</td>\n      <td>2022-01-11 16:55:00</td>\n      <td>2022-01-11 16:56:00</td>\n      <td>2022-05-13</td>\n      <td>Pulled-Out</td>\n      <td>...</td>\n      <td>13</td>\n      <td>1000.00</td>\n      <td>[None]</td>\n      <td></td>\n      <td>40.00</td>\n      <td>613550043993</td>\n      <td>NaN</td>\n      <td>NENITA</td>\n      <td>FRANCISCO</td>\n      <td>ESPIRITU</td>\n    </tr>\n    <tr>\n      <th>1</th>\n      <td>61355SG009783</td>\n      <td>61355</td>\n      <td>2B</td>\n      <td>216</td>\n      <td>CLH Calumpit Pio Cruzcosa</td>\n      <td>3400.0</td>\n      <td>2021-05-18 09:30:00</td>\n      <td>2021-05-18 09:37:00</td>\n      <td>2021-09-17</td>\n      <td>Redeemed</td>\n      <td>...</td>\n      <td>13</td>\n      <td>4320.00</td>\n      <td>[None]</td>\n      <td></td>\n      <td>136.00</td>\n      <td>613550066718</td>\n      <td>NaN</td>\n      <td>TRISTAN JAY</td>\n      <td>OFIAZA</td>\n      <td>ROXAS</td>\n    </tr>\n    <tr>\n      <th>2</th>\n      <td>20112SG037342</td>\n      <td>20112</td>\n      <td>2B</td>\n      <td>216</td>\n      <td>CLH Plaridel</td>\n      <td>2934.0</td>\n      <td>2020-01-25 16:31:00</td>\n      <td>2020-01-25 16:32:00</td>\n      <td>2020-05-25</td>\n      <td>Redeemed</td>\n      <td>...</td>\n      <td>13</td>\n      <td>2934.00</td>\n      <td>[None]</td>\n      <td></td>\n      <td>117.36</td>\n      <td>201120185053</td>\n      <td>NaN</td>\n      <td>ELVIRA</td>\n      <td>G.</td>\n      <td>LIM</td>\n    </tr>\n    <tr>\n      <th>3</th>\n      <td>20112SG043933</td>\n      <td>20112</td>\n      <td>2B</td>\n      <td>216</td>\n      <td>CLH Plaridel</td>\n      <td>7000.0</td>\n      <td>2021-12-30 08:56:00</td>\n      <td>2021-12-30 08:57:00</td>\n      <td>2022-05-02</td>\n      <td>Redeemed</td>\n      <td>...</td>\n      <td>13</td>\n      <td>7250.00</td>\n      <td>[None]</td>\n      <td></td>\n      <td>280.00</td>\n      <td>201120373900</td>\n      <td>NaN</td>\n      <td>MA NILA</td>\n      <td>TULOP</td>\n      <td>MERABIL</td>\n    </tr>\n    <tr>\n      <th>4</th>\n      <td>20112SG037072</td>\n      <td>20112</td>\n      <td>2B</td>\n      <td>216</td>\n      <td>CLH Plaridel</td>\n      <td>3215.0</td>\n      <td>2020-01-10 12:29:00</td>\n      <td>2020-01-10 12:31:00</td>\n      <td>2020-05-11</td>\n      <td>Redeemed</td>\n      <td>...</td>\n      <td>13</td>\n      <td>3352.25</td>\n      <td>[None]</td>\n      <td></td>\n      <td>128.60</td>\n      <td>201120252953</td>\n      <td>NaN</td>\n      <td>ROSEMARIE</td>\n      <td>CUTLER</td>\n      <td>KATSUMATA</td>\n    </tr>\n  </tbody>\n</table>\n<p>5 rows × 27 columns</p>\n</div>"
     },
     "metadata": {},
     "output_type": "display_data"
    }
   ],
   "source": [
    "# View Data\n",
    "print(df.shape)\n",
    "display(df.head())"
   ],
   "metadata": {
    "collapsed": false,
    "ExecuteTime": {
     "end_time": "2023-08-11T04:15:30.161666500Z",
     "start_time": "2023-08-11T04:15:30.119925800Z"
    }
   }
  },
  {
   "cell_type": "code",
   "execution_count": 8,
   "outputs": [
    {
     "name": "stdout",
     "output_type": "stream",
     "text": [
      "check nulls\n"
     ]
    },
    {
     "data": {
      "text/plain": "                     null_count  null_count_percentage\nExpiryDate                   20               0.000061\nfld_ItemDescription           8               0.000025\nfld_SerialNo             203869               0.626697\nnew_PTStarRating         125462               0.385673",
      "text/html": "<div>\n<style scoped>\n    .dataframe tbody tr th:only-of-type {\n        vertical-align: middle;\n    }\n\n    .dataframe tbody tr th {\n        vertical-align: top;\n    }\n\n    .dataframe thead th {\n        text-align: right;\n    }\n</style>\n<table border=\"1\" class=\"dataframe\">\n  <thead>\n    <tr style=\"text-align: right;\">\n      <th></th>\n      <th>null_count</th>\n      <th>null_count_percentage</th>\n    </tr>\n  </thead>\n  <tbody>\n    <tr>\n      <th>ExpiryDate</th>\n      <td>20</td>\n      <td>0.000061</td>\n    </tr>\n    <tr>\n      <th>fld_ItemDescription</th>\n      <td>8</td>\n      <td>0.000025</td>\n    </tr>\n    <tr>\n      <th>fld_SerialNo</th>\n      <td>203869</td>\n      <td>0.626697</td>\n    </tr>\n    <tr>\n      <th>new_PTStarRating</th>\n      <td>125462</td>\n      <td>0.385673</td>\n    </tr>\n  </tbody>\n</table>\n</div>"
     },
     "metadata": {},
     "output_type": "display_data"
    }
   ],
   "source": [
    "# Check for null values\n",
    "def check_nulls(_df):\n",
    "\n",
    "    print('check nulls')\n",
    "    _df_out = pd.DataFrame([])\n",
    "    _df_out['null_count'] = _df.isna().sum()\n",
    "    _df_out['null_count_percentage'] = _df.isna().sum()/_df.shape[0]\n",
    "    display(_df_out[_df_out['null_count']>0])\n",
    "\n",
    "check_nulls(df)"
   ],
   "metadata": {
    "collapsed": false,
    "ExecuteTime": {
     "end_time": "2023-08-11T04:15:32.584876900Z",
     "start_time": "2023-08-11T04:15:31.049678200Z"
    }
   }
  },
  {
   "cell_type": "code",
   "execution_count": 9,
   "outputs": [
    {
     "name": "stdout",
     "output_type": "stream",
     "text": [
      "uniqueness of non-numeric columns\n"
     ]
    },
    {
     "data": {
      "text/plain": "     non-numeric_column  unique  non unique  uniqueness\n0              TicketNo  323276        2031    0.993757\n6                FormNo  322705        2602    0.992001\n10  fld_ItemDescription   78985      246314    0.242807\n15       fld_CustomerNo   74055      251252    0.227647\n16        fld_FirstName   21243      304064    0.065301\n18         fld_LastName   16588      308719    0.050992\n17       fld_MiddleName   15339      309968    0.047152\n14          PromoReason    2303      323004    0.007079\n11         fld_SerialNo     171      121267    0.001408\n8       DesignModelName     191      325116    0.000587\n7      StorageGroupName      93      325214    0.000286\n1        fld_BranchCode      47      325260    0.000144\n4        fld_BranchName      47      325260    0.000144\n13            PromoCode      20      325287    0.000061\n12   fld_StorageGroupID      16      325291    0.000049\n9             fld_Karat      16      325291    0.000049\n5           TransStatus       8      325299    0.000025\n3          fld_AreaCode       1      325306    0.000003\n2        fld_RegionCode       1      325306    0.000003",
      "text/html": "<div>\n<style scoped>\n    .dataframe tbody tr th:only-of-type {\n        vertical-align: middle;\n    }\n\n    .dataframe tbody tr th {\n        vertical-align: top;\n    }\n\n    .dataframe thead th {\n        text-align: right;\n    }\n</style>\n<table border=\"1\" class=\"dataframe\">\n  <thead>\n    <tr style=\"text-align: right;\">\n      <th></th>\n      <th>non-numeric_column</th>\n      <th>unique</th>\n      <th>non unique</th>\n      <th>uniqueness</th>\n    </tr>\n  </thead>\n  <tbody>\n    <tr>\n      <th>0</th>\n      <td>TicketNo</td>\n      <td>323276</td>\n      <td>2031</td>\n      <td>0.993757</td>\n    </tr>\n    <tr>\n      <th>6</th>\n      <td>FormNo</td>\n      <td>322705</td>\n      <td>2602</td>\n      <td>0.992001</td>\n    </tr>\n    <tr>\n      <th>10</th>\n      <td>fld_ItemDescription</td>\n      <td>78985</td>\n      <td>246314</td>\n      <td>0.242807</td>\n    </tr>\n    <tr>\n      <th>15</th>\n      <td>fld_CustomerNo</td>\n      <td>74055</td>\n      <td>251252</td>\n      <td>0.227647</td>\n    </tr>\n    <tr>\n      <th>16</th>\n      <td>fld_FirstName</td>\n      <td>21243</td>\n      <td>304064</td>\n      <td>0.065301</td>\n    </tr>\n    <tr>\n      <th>18</th>\n      <td>fld_LastName</td>\n      <td>16588</td>\n      <td>308719</td>\n      <td>0.050992</td>\n    </tr>\n    <tr>\n      <th>17</th>\n      <td>fld_MiddleName</td>\n      <td>15339</td>\n      <td>309968</td>\n      <td>0.047152</td>\n    </tr>\n    <tr>\n      <th>14</th>\n      <td>PromoReason</td>\n      <td>2303</td>\n      <td>323004</td>\n      <td>0.007079</td>\n    </tr>\n    <tr>\n      <th>11</th>\n      <td>fld_SerialNo</td>\n      <td>171</td>\n      <td>121267</td>\n      <td>0.001408</td>\n    </tr>\n    <tr>\n      <th>8</th>\n      <td>DesignModelName</td>\n      <td>191</td>\n      <td>325116</td>\n      <td>0.000587</td>\n    </tr>\n    <tr>\n      <th>7</th>\n      <td>StorageGroupName</td>\n      <td>93</td>\n      <td>325214</td>\n      <td>0.000286</td>\n    </tr>\n    <tr>\n      <th>1</th>\n      <td>fld_BranchCode</td>\n      <td>47</td>\n      <td>325260</td>\n      <td>0.000144</td>\n    </tr>\n    <tr>\n      <th>4</th>\n      <td>fld_BranchName</td>\n      <td>47</td>\n      <td>325260</td>\n      <td>0.000144</td>\n    </tr>\n    <tr>\n      <th>13</th>\n      <td>PromoCode</td>\n      <td>20</td>\n      <td>325287</td>\n      <td>0.000061</td>\n    </tr>\n    <tr>\n      <th>12</th>\n      <td>fld_StorageGroupID</td>\n      <td>16</td>\n      <td>325291</td>\n      <td>0.000049</td>\n    </tr>\n    <tr>\n      <th>9</th>\n      <td>fld_Karat</td>\n      <td>16</td>\n      <td>325291</td>\n      <td>0.000049</td>\n    </tr>\n    <tr>\n      <th>5</th>\n      <td>TransStatus</td>\n      <td>8</td>\n      <td>325299</td>\n      <td>0.000025</td>\n    </tr>\n    <tr>\n      <th>3</th>\n      <td>fld_AreaCode</td>\n      <td>1</td>\n      <td>325306</td>\n      <td>0.000003</td>\n    </tr>\n    <tr>\n      <th>2</th>\n      <td>fld_RegionCode</td>\n      <td>1</td>\n      <td>325306</td>\n      <td>0.000003</td>\n    </tr>\n  </tbody>\n</table>\n</div>"
     },
     "metadata": {},
     "output_type": "display_data"
    }
   ],
   "source": [
    "# Check for uniqueness of non-numeric columns\n",
    "def check_uniqueness_non_numeric_cols(_df):\n",
    "\n",
    "    print('uniqueness of non-numeric columns')\n",
    "\n",
    "    _n_cols = _df.select_dtypes(exclude=['number','datetime'])\n",
    "\n",
    "    _arr_column,_arr_uniqueness,_arr_unique,_arr_non_unique =  [],[],[],[]\n",
    "    for _col_name in _n_cols.columns:\n",
    "        _col = _n_cols[_col_name]\n",
    "        _arr_column += [_col_name]\n",
    "        _arr_unique += [_col.nunique()]\n",
    "        _arr_non_unique += [_col.count() - _col.nunique()]\n",
    "        _arr_uniqueness += [_col.nunique()/_col.count()]\n",
    "\n",
    "    _out_df = pd.DataFrame([])\n",
    "    _out_df['non-numeric_column'] = _arr_column\n",
    "    _out_df['unique'] = _arr_unique\n",
    "    _out_df['non unique']= _arr_non_unique\n",
    "    _out_df['uniqueness'] = _arr_uniqueness\n",
    "\n",
    "    display(_out_df.sort_values('uniqueness', ascending=False))\n",
    "\n",
    "check_uniqueness_non_numeric_cols(df)"
   ],
   "metadata": {
    "collapsed": false,
    "ExecuteTime": {
     "end_time": "2023-08-11T04:15:43.526273300Z",
     "start_time": "2023-08-11T04:15:41.309343300Z"
    }
   }
  },
  {
   "cell_type": "code",
   "execution_count": 10,
   "outputs": [
    {
     "name": "stdout",
     "output_type": "stream",
     "text": [
      "rec_count per categorical columns\n"
     ]
    },
    {
     "data": {
      "text/plain": "fld_RegionCode\n2B    325307\nName: fld_RegionCode, dtype: int64"
     },
     "metadata": {},
     "output_type": "display_data"
    },
    {
     "data": {
      "text/plain": "fld_AreaCode\n216    325307\nName: fld_AreaCode, dtype: int64"
     },
     "metadata": {},
     "output_type": "display_data"
    },
    {
     "data": {
      "text/plain": "TransStatus\nRedeemed      172804\nPulled-Out     36058\nSOLD           23447\nRenewed        22293\nNew Prenda     22185\nSold           21698\nPulled Out     21163\nExpired         5659\nName: TransStatus, dtype: int64"
     },
     "metadata": {},
     "output_type": "display_data"
    },
    {
     "data": {
      "text/plain": "fld_Karat\n18K    239595\n21K     48617\n14K     24152\nJ18      5566\n22K      2895\nI14       831\n16K       754\n10K       635\nPT        575\n12K       574\nS18       524\n          262\n18I       238\n24K        73\nS14        13\n14J         3\nName: fld_Karat, dtype: int64"
     },
     "metadata": {},
     "output_type": "display_data"
    },
    {
     "data": {
      "text/plain": "fld_StorageGroupID\n13    317460\n9       3777\n7       2465\n11       619\n14       440\n2        201\n5         87\n8         85\n3         63\n10        34\n1         31\n17        27\n4          8\n12         6\n16         2\n6          2\nName: fld_StorageGroupID, dtype: int64"
     },
     "metadata": {},
     "output_type": "display_data"
    },
    {
     "data": {
      "text/plain": "PromoCode\n[None]             173548\nNPJEWEL            103170\nPRD10               13752\nPRD15                7618\nNPPRD15              6411\nNPPRD10              6377\nNPPRD5               5211\nPRD5                 3624\nRDMCQ1               2437\nCLP1                 1706\nRPAWN                1233\nPRD1                  113\nNPPRD200               27\nRRDRNW8                24\nNPGADGET               20\nRDM1                   10\nRRDUPSIZE              10\nPRD500                  7\nNPNONJEWEL              5\nNPJEWEL EMPDISC         4\nName: PromoCode, dtype: int64"
     },
     "metadata": {},
     "output_type": "display_data"
    },
    {
     "data": {
      "text/plain": "new_PTStarRating\nNaN    125462\n4.0     79981\n2.0     52561\n5.0     33318\n3.0     26717\n1.0      7268\nName: new_PTStarRating, dtype: int64"
     },
     "metadata": {},
     "output_type": "display_data"
    }
   ],
   "source": [
    "# Check contents of categorical columns\n",
    "def check_count_categorical_cols(_df,_max_unique=30):\n",
    "\n",
    "    print('rec_count per categorical columns')\n",
    "    _cat_cols = _df\n",
    "\n",
    "    for _col_name in _cat_cols.columns:\n",
    "        _col = _cat_cols[_col_name]\n",
    "\n",
    "        if _col.nunique() <= _max_unique:\n",
    "\n",
    "            _df_out = _col.groupby(_col, dropna=False).size().sort_values(ascending=False)\n",
    "            display(_df_out)\n",
    "\n",
    "check_count_categorical_cols(df)"
   ],
   "metadata": {
    "collapsed": false,
    "ExecuteTime": {
     "end_time": "2023-08-11T04:15:44.501903200Z",
     "start_time": "2023-08-11T04:15:43.530264200Z"
    }
   }
  },
  {
   "cell_type": "code",
   "execution_count": 11,
   "outputs": [
    {
     "name": "stdout",
     "output_type": "stream",
     "text": [
      "check stats numerical cols\n"
     ]
    },
    {
     "data": {
      "text/plain": "        PrincipalAmt     fld_Weight  fld_AppraiseValue  InterestNewPrenda  \\\ncount  325307.000000  325307.000000      325307.000000      325307.000000   \nmean     9820.212469       4.104154       10608.353097         391.814153   \nstd     14022.875783       5.639617       15040.312375         560.536028   \nmin       100.000000       0.000000           0.000000           0.000000   \n25%      3450.000000       1.500000        3737.500000         138.000000   \n50%      5850.000000       2.500000        6325.000000         232.000000   \n75%     11000.000000       4.600000       11850.000000         437.000000   \nmax    968000.000000     421.000000      968300.000000       38720.000000   \n\n       new_PTStarRating  \ncount     199845.000000  \nmean           3.397908  \nstd            1.147715  \nmin            1.000000  \n25%            2.000000  \n50%            4.000000  \n75%            4.000000  \nmax            5.000000  ",
      "text/html": "<div>\n<style scoped>\n    .dataframe tbody tr th:only-of-type {\n        vertical-align: middle;\n    }\n\n    .dataframe tbody tr th {\n        vertical-align: top;\n    }\n\n    .dataframe thead th {\n        text-align: right;\n    }\n</style>\n<table border=\"1\" class=\"dataframe\">\n  <thead>\n    <tr style=\"text-align: right;\">\n      <th></th>\n      <th>PrincipalAmt</th>\n      <th>fld_Weight</th>\n      <th>fld_AppraiseValue</th>\n      <th>InterestNewPrenda</th>\n      <th>new_PTStarRating</th>\n    </tr>\n  </thead>\n  <tbody>\n    <tr>\n      <th>count</th>\n      <td>325307.000000</td>\n      <td>325307.000000</td>\n      <td>325307.000000</td>\n      <td>325307.000000</td>\n      <td>199845.000000</td>\n    </tr>\n    <tr>\n      <th>mean</th>\n      <td>9820.212469</td>\n      <td>4.104154</td>\n      <td>10608.353097</td>\n      <td>391.814153</td>\n      <td>3.397908</td>\n    </tr>\n    <tr>\n      <th>std</th>\n      <td>14022.875783</td>\n      <td>5.639617</td>\n      <td>15040.312375</td>\n      <td>560.536028</td>\n      <td>1.147715</td>\n    </tr>\n    <tr>\n      <th>min</th>\n      <td>100.000000</td>\n      <td>0.000000</td>\n      <td>0.000000</td>\n      <td>0.000000</td>\n      <td>1.000000</td>\n    </tr>\n    <tr>\n      <th>25%</th>\n      <td>3450.000000</td>\n      <td>1.500000</td>\n      <td>3737.500000</td>\n      <td>138.000000</td>\n      <td>2.000000</td>\n    </tr>\n    <tr>\n      <th>50%</th>\n      <td>5850.000000</td>\n      <td>2.500000</td>\n      <td>6325.000000</td>\n      <td>232.000000</td>\n      <td>4.000000</td>\n    </tr>\n    <tr>\n      <th>75%</th>\n      <td>11000.000000</td>\n      <td>4.600000</td>\n      <td>11850.000000</td>\n      <td>437.000000</td>\n      <td>4.000000</td>\n    </tr>\n    <tr>\n      <th>max</th>\n      <td>968000.000000</td>\n      <td>421.000000</td>\n      <td>968300.000000</td>\n      <td>38720.000000</td>\n      <td>5.000000</td>\n    </tr>\n  </tbody>\n</table>\n</div>"
     },
     "metadata": {},
     "output_type": "display_data"
    }
   ],
   "source": [
    "# Check stats of numerical columns\n",
    "def check_stats_num_cols(_df):\n",
    "\n",
    "    print('check stats numerical cols')\n",
    "    display(_df.describe())\n",
    "\n",
    "check_stats_num_cols(df)"
   ],
   "metadata": {
    "collapsed": false,
    "ExecuteTime": {
     "end_time": "2023-08-11T04:15:44.598644200Z",
     "start_time": "2023-08-11T04:15:44.503898400Z"
    }
   }
  },
  {
   "cell_type": "code",
   "execution_count": 12,
   "outputs": [
    {
     "data": {
      "text/plain": "<Figure size 432x216 with 1 Axes>",
      "image/png": "[encoded data removed]"
     },
     "metadata": {
      "needs_background": "light"
     },
     "output_type": "display_data"
    },
    {
     "data": {
      "text/plain": "<Figure size 432x216 with 1 Axes>",
      "image/png": "[encoded data removed]"
     },
     "metadata": {
      "needs_background": "light"
     },
     "output_type": "display_data"
    },
    {
     "data": {
      "text/plain": "<Figure size 432x216 with 1 Axes>",
      "image/png": "[encoded data removed]"
     },
     "metadata": {
      "needs_background": "light"
     },
     "output_type": "display_data"
    },
    {
     "data": {
      "text/plain": "<Figure size 432x216 with 1 Axes>",
      "image/png": "[encoded data removed]"
     },
     "metadata": {
      "needs_background": "light"
     },
     "output_type": "display_data"
    },
    {
     "data": {
      "text/plain": "<Figure size 432x216 with 1 Axes>",
      "image/png": "[encoded data removed]"
     },
     "metadata": {
      "needs_background": "light"
     },
     "output_type": "display_data"
    }
   ],
   "source": [
    "# check_histo_num_cols\n",
    "def check_histo_num_cols(_df):\n",
    "\n",
    "    # Select numeric columns\n",
    "    numeric_cols = _df.select_dtypes(include='number')\n",
    "\n",
    "    # Create histograms for numeric columns\n",
    "    for column in numeric_cols:\n",
    "        plt.figure(figsize=(6, 3))\n",
    "        plt.hist(_df[column])\n",
    "        plt.title(column)\n",
    "        plt.xlabel(column)\n",
    "        plt.ylabel('Frequency')\n",
    "        plt.show()\n",
    "\n",
    "check_histo_num_cols(df)"
   ],
   "metadata": {
    "collapsed": false,
    "ExecuteTime": {
     "end_time": "2023-08-11T04:15:45.706830500Z",
     "start_time": "2023-08-11T04:15:44.600638500Z"
    }
   }
  },
  {
   "cell_type": "code",
   "execution_count": null,
   "outputs": [],
   "source": [],
   "metadata": {
    "collapsed": false
   }
  }
 ],
 "metadata": {
  "kernelspec": {
   "display_name": "Python 3",
   "language": "python",
   "name": "python3"
  },
  "language_info": {
   "codemirror_mode": {
    "name": "ipython",
    "version": 2
   },
   "file_extension": ".py",
   "mimetype": "text/x-python",
   "name": "python",
   "nbconvert_exporter": "python",
   "pygments_lexer": "ipython2",
   "version": "2.7.6"
  }
 },
 "nbformat": 4,
 "nbformat_minor": 0
}
