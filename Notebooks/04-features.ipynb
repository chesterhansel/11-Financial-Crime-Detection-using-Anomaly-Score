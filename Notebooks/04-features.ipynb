{
 "cells": [
  {
   "cell_type": "code",
   "execution_count": 1,
   "outputs": [],
   "source": [
    "import datetime\n",
    "\n",
    "import pandas as pd\n",
    "import matplotlib.pyplot as plt\n",
    "import numpy as np"
   ],
   "metadata": {
    "collapsed": false,
    "ExecuteTime": {
     "end_time": "2023-08-11T04:17:09.818390800Z",
     "start_time": "2023-08-11T04:17:07.451272300Z"
    }
   }
  },
  {
   "cell_type": "code",
   "execution_count": 2,
   "outputs": [],
   "source": [
    "# Read the Parquet file into a DataFrame\n",
    "df = pd.read_parquet(r'../Data/Np_cleaned.parquet')"
   ],
   "metadata": {
    "collapsed": false,
    "ExecuteTime": {
     "end_time": "2023-08-11T04:17:09.901359Z",
     "start_time": "2023-08-11T04:17:09.822753100Z"
    }
   }
  },
  {
   "cell_type": "code",
   "execution_count": 3,
   "outputs": [
    {
     "name": "stdout",
     "output_type": "stream",
     "text": [
      "(6501, 26)\n"
     ]
    },
    {
     "data": {
      "text/plain": "TicketNo                       object\nfld_BranchCode                 object\nfld_RegionCode                 object\nfld_AreaCode                   object\nfld_BranchName                 object\nPrincipalAmt                  float64\nLoanDate               datetime64[ns]\nDateCreated            datetime64[ns]\nExpiryDate             datetime64[ns]\nTransStatus                    object\nFormNo                         object\nStorageGroupName               object\nDesignModelName                object\nfld_Weight                    float64\nfld_Karat                      object\nfld_ItemDescription            object\nfld_StorageGroupID             object\nfld_AppraiseValue             float64\nPromoCode                      object\nPromoReason                    object\nInterestNewPrenda             float64\nfld_CustomerNo                 object\nnew_PTStarRating              float64\nfld_FirstName                  object\nfld_MiddleName                 object\nfld_LastName                   object\ndtype: object"
     },
     "metadata": {},
     "output_type": "display_data"
    }
   ],
   "source": [
    "# View Data\n",
    "print(df.shape)\n",
    "display(df.dtypes)"
   ],
   "metadata": {
    "collapsed": false,
    "ExecuteTime": {
     "end_time": "2023-08-11T04:17:09.918565500Z",
     "start_time": "2023-08-11T04:17:09.903895Z"
    }
   }
  },
  {
   "cell_type": "code",
   "execution_count": 4,
   "outputs": [],
   "source": [
    "# Parsing\n",
    "df['datetime'] = pd.to_datetime(df['DateCreated'])\n",
    "df['time_numeric'] = df['datetime'].dt.hour * 3600 \\\n",
    "                     + df['datetime'].dt.minute * 60 + df['datetime'].dt.second\n",
    "df['date_numeric'] = (df['datetime'] - pd.to_datetime('1990-01-01')).dt.days\n",
    "\n",
    "# Encoding One Hot\n",
    "promo_one_hot = pd.get_dummies(df['PromoCode'], prefix='Promo')\n",
    "status_one_hot = pd.get_dummies(df['TransStatus'], prefix='Status')\n",
    "\n",
    "# Encoding Labels\n",
    "from sklearn.preprocessing import LabelEncoder\n",
    "label_encoder = LabelEncoder()\n",
    "df['client_label_encoded'] = label_encoder.fit_transform(df['fld_CustomerNo'])"
   ],
   "metadata": {
    "collapsed": false,
    "ExecuteTime": {
     "end_time": "2023-08-11T04:17:12.301321800Z",
     "start_time": "2023-08-11T04:17:09.921557100Z"
    }
   }
  },
  {
   "cell_type": "code",
   "execution_count": 5,
   "outputs": [],
   "source": [
    "X = df[['time_numeric','date_numeric', 'client_label_encoded']]\n",
    "X = pd.concat([X, promo_one_hot, status_one_hot], axis=1)"
   ],
   "metadata": {
    "collapsed": false,
    "ExecuteTime": {
     "end_time": "2023-08-11T04:17:12.317448800Z",
     "start_time": "2023-08-11T04:17:12.305230800Z"
    }
   }
  },
  {
   "cell_type": "code",
   "execution_count": 6,
   "outputs": [],
   "source": [
    "import pyarrow as pa\n",
    "import pyarrow.parquet as pq\n",
    "\n",
    "table = pa.Table.from_pandas(X)\n",
    "pq.write_table(table, r'..\\Data\\X.parquet')"
   ],
   "metadata": {
    "collapsed": false,
    "ExecuteTime": {
     "end_time": "2023-08-11T04:17:12.351118500Z",
     "start_time": "2023-08-11T04:17:12.319469Z"
    }
   }
  },
  {
   "cell_type": "code",
   "execution_count": 6,
   "outputs": [],
   "source": [],
   "metadata": {
    "collapsed": false,
    "ExecuteTime": {
     "end_time": "2023-08-11T04:17:12.368014400Z",
     "start_time": "2023-08-11T04:17:12.353112900Z"
    }
   }
  }
 ],
 "metadata": {
  "kernelspec": {
   "display_name": "Python 3",
   "language": "python",
   "name": "python3"
  },
  "language_info": {
   "codemirror_mode": {
    "name": "ipython",
    "version": 2
   },
   "file_extension": ".py",
   "mimetype": "text/x-python",
   "name": "python",
   "nbconvert_exporter": "python",
   "pygments_lexer": "ipython2",
   "version": "2.7.6"
  }
 },
 "nbformat": 4,
 "nbformat_minor": 0
}
