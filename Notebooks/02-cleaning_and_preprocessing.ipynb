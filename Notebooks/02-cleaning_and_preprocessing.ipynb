{
 "cells": [
  {
   "cell_type": "code",
   "execution_count": 12,
   "outputs": [],
   "source": [
    "### Data Cleaning\n",
    "### Handling Null values, Parsing, Re-categorization\n",
    "### by: Chester Hansel Duco, Philippines"
   ],
   "metadata": {
    "collapsed": false,
    "ExecuteTime": {
     "end_time": "2023-08-11T04:16:43.165092800Z",
     "start_time": "2023-08-11T04:16:43.141999300Z"
    }
   }
  },
  {
   "cell_type": "code",
   "execution_count": 13,
   "outputs": [],
   "source": [
    "import pandas as pd"
   ],
   "metadata": {
    "collapsed": false,
    "ExecuteTime": {
     "end_time": "2023-08-11T04:16:43.214608700Z",
     "start_time": "2023-08-11T04:16:43.154245400Z"
    }
   }
  },
  {
   "cell_type": "code",
   "execution_count": 14,
   "outputs": [],
   "source": [
    "# Read the Parquet file into a DataFrame\n",
    "df = pd.read_parquet(r'..\\Data\\np_216.parquet')"
   ],
   "metadata": {
    "collapsed": false,
    "ExecuteTime": {
     "end_time": "2023-08-11T04:16:44.023152500Z",
     "start_time": "2023-08-11T04:16:43.170765600Z"
    }
   }
  },
  {
   "cell_type": "code",
   "execution_count": 15,
   "outputs": [
    {
     "name": "stdout",
     "output_type": "stream",
     "text": [
      "(325307, 27)\n"
     ]
    },
    {
     "data": {
      "text/plain": "        TicketNo fld_BranchCode fld_RegionCode fld_AreaCode  \\\n0  61355SG011334          61355             2B          216   \n1  61355SG009783          61355             2B          216   \n2  20112SG037342          20112             2B          216   \n3  20112SG043933          20112             2B          216   \n4  20112SG037072          20112             2B          216   \n\n              fld_BranchName  PrincipalAmt            LoanDate  \\\n0  CLH Calumpit Pio Cruzcosa        1000.0 2022-01-11 16:55:00   \n1  CLH Calumpit Pio Cruzcosa        3400.0 2021-05-18 09:30:00   \n2               CLH Plaridel        2934.0 2020-01-25 16:31:00   \n3               CLH Plaridel        7000.0 2021-12-30 08:56:00   \n4               CLH Plaridel        3215.0 2020-01-10 12:29:00   \n\n          DateCreated ExpiryDate TransStatus  ... fld_StorageGroupID  \\\n0 2022-01-11 16:56:00 2022-05-13  Pulled-Out  ...                 13   \n1 2021-05-18 09:37:00 2021-09-17    Redeemed  ...                 13   \n2 2020-01-25 16:32:00 2020-05-25    Redeemed  ...                 13   \n3 2021-12-30 08:57:00 2022-05-02    Redeemed  ...                 13   \n4 2020-01-10 12:31:00 2020-05-11    Redeemed  ...                 13   \n\n  fld_AppraiseValue PromoCode  PromoReason InterestNewPrenda fld_CustomerNo  \\\n0           1000.00    [None]                          40.00   613550043993   \n1           4320.00    [None]                         136.00   613550066718   \n2           2934.00    [None]                         117.36   201120185053   \n3           7250.00    [None]                         280.00   201120373900   \n4           3352.25    [None]                         128.60   201120252953   \n\n  new_PTStarRating fld_FirstName  fld_MiddleName fld_LastName  \n0              NaN        NENITA       FRANCISCO     ESPIRITU  \n1              NaN   TRISTAN JAY          OFIAZA        ROXAS  \n2              NaN        ELVIRA              G.          LIM  \n3              NaN       MA NILA           TULOP      MERABIL  \n4              NaN     ROSEMARIE          CUTLER    KATSUMATA  \n\n[5 rows x 27 columns]",
      "text/html": "<div>\n<style scoped>\n    .dataframe tbody tr th:only-of-type {\n        vertical-align: middle;\n    }\n\n    .dataframe tbody tr th {\n        vertical-align: top;\n    }\n\n    .dataframe thead th {\n        text-align: right;\n    }\n</style>\n<table border=\"1\" class=\"dataframe\">\n  <thead>\n    <tr style=\"text-align: right;\">\n      <th></th>\n      <th>TicketNo</th>\n      <th>fld_BranchCode</th>\n      <th>fld_RegionCode</th>\n      <th>fld_AreaCode</th>\n      <th>fld_BranchName</th>\n      <th>PrincipalAmt</th>\n      <th>LoanDate</th>\n      <th>DateCreated</th>\n      <th>ExpiryDate</th>\n      <th>TransStatus</th>\n      <th>...</th>\n      <th>fld_StorageGroupID</th>\n      <th>fld_AppraiseValue</th>\n      <th>PromoCode</th>\n      <th>PromoReason</th>\n      <th>InterestNewPrenda</th>\n      <th>fld_CustomerNo</th>\n      <th>new_PTStarRating</th>\n      <th>fld_FirstName</th>\n      <th>fld_MiddleName</th>\n      <th>fld_LastName</th>\n    </tr>\n  </thead>\n  <tbody>\n    <tr>\n      <th>0</th>\n      <td>61355SG011334</td>\n      <td>61355</td>\n      <td>2B</td>\n      <td>216</td>\n      <td>CLH Calumpit Pio Cruzcosa</td>\n      <td>1000.0</td>\n      <td>2022-01-11 16:55:00</td>\n      <td>2022-01-11 16:56:00</td>\n      <td>2022-05-13</td>\n      <td>Pulled-Out</td>\n      <td>...</td>\n      <td>13</td>\n      <td>1000.00</td>\n      <td>[None]</td>\n      <td></td>\n      <td>40.00</td>\n      <td>613550043993</td>\n      <td>NaN</td>\n      <td>NENITA</td>\n      <td>FRANCISCO</td>\n      <td>ESPIRITU</td>\n    </tr>\n    <tr>\n      <th>1</th>\n      <td>61355SG009783</td>\n      <td>61355</td>\n      <td>2B</td>\n      <td>216</td>\n      <td>CLH Calumpit Pio Cruzcosa</td>\n      <td>3400.0</td>\n      <td>2021-05-18 09:30:00</td>\n      <td>2021-05-18 09:37:00</td>\n      <td>2021-09-17</td>\n      <td>Redeemed</td>\n      <td>...</td>\n      <td>13</td>\n      <td>4320.00</td>\n      <td>[None]</td>\n      <td></td>\n      <td>136.00</td>\n      <td>613550066718</td>\n      <td>NaN</td>\n      <td>TRISTAN JAY</td>\n      <td>OFIAZA</td>\n      <td>ROXAS</td>\n    </tr>\n    <tr>\n      <th>2</th>\n      <td>20112SG037342</td>\n      <td>20112</td>\n      <td>2B</td>\n      <td>216</td>\n      <td>CLH Plaridel</td>\n      <td>2934.0</td>\n      <td>2020-01-25 16:31:00</td>\n      <td>2020-01-25 16:32:00</td>\n      <td>2020-05-25</td>\n      <td>Redeemed</td>\n      <td>...</td>\n      <td>13</td>\n      <td>2934.00</td>\n      <td>[None]</td>\n      <td></td>\n      <td>117.36</td>\n      <td>201120185053</td>\n      <td>NaN</td>\n      <td>ELVIRA</td>\n      <td>G.</td>\n      <td>LIM</td>\n    </tr>\n    <tr>\n      <th>3</th>\n      <td>20112SG043933</td>\n      <td>20112</td>\n      <td>2B</td>\n      <td>216</td>\n      <td>CLH Plaridel</td>\n      <td>7000.0</td>\n      <td>2021-12-30 08:56:00</td>\n      <td>2021-12-30 08:57:00</td>\n      <td>2022-05-02</td>\n      <td>Redeemed</td>\n      <td>...</td>\n      <td>13</td>\n      <td>7250.00</td>\n      <td>[None]</td>\n      <td></td>\n      <td>280.00</td>\n      <td>201120373900</td>\n      <td>NaN</td>\n      <td>MA NILA</td>\n      <td>TULOP</td>\n      <td>MERABIL</td>\n    </tr>\n    <tr>\n      <th>4</th>\n      <td>20112SG037072</td>\n      <td>20112</td>\n      <td>2B</td>\n      <td>216</td>\n      <td>CLH Plaridel</td>\n      <td>3215.0</td>\n      <td>2020-01-10 12:29:00</td>\n      <td>2020-01-10 12:31:00</td>\n      <td>2020-05-11</td>\n      <td>Redeemed</td>\n      <td>...</td>\n      <td>13</td>\n      <td>3352.25</td>\n      <td>[None]</td>\n      <td></td>\n      <td>128.60</td>\n      <td>201120252953</td>\n      <td>NaN</td>\n      <td>ROSEMARIE</td>\n      <td>CUTLER</td>\n      <td>KATSUMATA</td>\n    </tr>\n  </tbody>\n</table>\n<p>5 rows × 27 columns</p>\n</div>"
     },
     "metadata": {},
     "output_type": "display_data"
    }
   ],
   "source": [
    "# View Data\n",
    "print(df.shape)\n",
    "display(df.head())"
   ],
   "metadata": {
    "collapsed": false,
    "ExecuteTime": {
     "end_time": "2023-08-11T04:16:44.100886400Z",
     "start_time": "2023-08-11T04:16:44.029149300Z"
    }
   }
  },
  {
   "cell_type": "code",
   "execution_count": 16,
   "outputs": [],
   "source": [
    "## Handling Missing Values"
   ],
   "metadata": {
    "collapsed": false,
    "ExecuteTime": {
     "end_time": "2023-08-11T04:16:44.108660400Z",
     "start_time": "2023-08-11T04:16:44.054918Z"
    }
   }
  },
  {
   "cell_type": "code",
   "execution_count": 17,
   "outputs": [],
   "source": [
    "# Imputation\n",
    "df['new_PTStarRating'] = df['new_PTStarRating'].fillna(0) #replace with zeroes"
   ],
   "metadata": {
    "collapsed": false,
    "ExecuteTime": {
     "end_time": "2023-08-11T04:16:44.149394200Z",
     "start_time": "2023-08-11T04:16:44.073452800Z"
    }
   }
  },
  {
   "cell_type": "code",
   "execution_count": 18,
   "outputs": [],
   "source": [
    "# Deleting Columns\n",
    "df = df.drop('fld_SerialNo', axis=1)"
   ],
   "metadata": {
    "collapsed": false,
    "ExecuteTime": {
     "end_time": "2023-08-11T04:16:44.220043100Z",
     "start_time": "2023-08-11T04:16:44.087690300Z"
    }
   }
  },
  {
   "cell_type": "code",
   "execution_count": 19,
   "outputs": [
    {
     "name": "stdout",
     "output_type": "stream",
     "text": [
      "check nulls\n"
     ]
    },
    {
     "data": {
      "text/plain": "                     null_count  null_count_percentage\nExpiryDate                   20               0.000061\nfld_ItemDescription           8               0.000025",
      "text/html": "<div>\n<style scoped>\n    .dataframe tbody tr th:only-of-type {\n        vertical-align: middle;\n    }\n\n    .dataframe tbody tr th {\n        vertical-align: top;\n    }\n\n    .dataframe thead th {\n        text-align: right;\n    }\n</style>\n<table border=\"1\" class=\"dataframe\">\n  <thead>\n    <tr style=\"text-align: right;\">\n      <th></th>\n      <th>null_count</th>\n      <th>null_count_percentage</th>\n    </tr>\n  </thead>\n  <tbody>\n    <tr>\n      <th>ExpiryDate</th>\n      <td>20</td>\n      <td>0.000061</td>\n    </tr>\n    <tr>\n      <th>fld_ItemDescription</th>\n      <td>8</td>\n      <td>0.000025</td>\n    </tr>\n  </tbody>\n</table>\n</div>"
     },
     "metadata": {},
     "output_type": "display_data"
    }
   ],
   "source": [
    "# Check for null values\n",
    "def check_nulls(_df):\n",
    "\n",
    "    print('check nulls')\n",
    "    _df_out = pd.DataFrame([])\n",
    "    _df_out['null_count'] = _df.isna().sum()\n",
    "    _df_out['null_count_percentage'] = _df.isna().sum()/_df.shape[0]\n",
    "    display(_df_out[_df_out['null_count']>0])\n",
    "\n",
    "check_nulls(df)"
   ],
   "metadata": {
    "collapsed": false,
    "ExecuteTime": {
     "end_time": "2023-08-11T04:16:45.853500300Z",
     "start_time": "2023-08-11T04:16:44.187480800Z"
    }
   }
  },
  {
   "cell_type": "code",
   "execution_count": 20,
   "outputs": [
    {
     "data": {
      "text/plain": "[None]             173548\nNPJEWEL            103170\nPRD10               20129\nPRD15               14029\nPRD5                 8835\nRDMCQ1               2437\nCLP1                 1706\nRPAWN                1233\nPRD1                  113\nNPPRD200               27\nRRDRNW8                24\nNPGADGET               20\nRDM1                   10\nRRDUPSIZE              10\nPRD500                  7\nNPNONJEWEL              5\nNPJEWEL EMPDISC         4\nName: PromoCode, dtype: int64"
     },
     "metadata": {},
     "output_type": "display_data"
    },
    {
     "data": {
      "text/plain": "Redeemed      172804\nPulled-Out     57221\nSold           45145\nRenewed        22293\nNew Prenda     22185\nExpired         5659\nName: TransStatus, dtype: int64"
     },
     "metadata": {},
     "output_type": "display_data"
    }
   ],
   "source": [
    "# Re-categorize\n",
    "df['PromoCode'].replace({\n",
    "    \"NPPRD5\": \"PRD5\",\n",
    "    \"NPPRD10\": \"PRD10\",\n",
    "    \"NPPRD15\": \"PRD15\",\n",
    "    \"NPPRD10\": \"PRD10\"\n",
    "}, inplace=True)\n",
    "display(df['PromoCode'].value_counts())\n",
    "\n",
    "df['TransStatus'].replace({\n",
    "    \"Pulled Out\": \"Pulled-Out\",\n",
    "    \"SOLD\": \"Sold\"\n",
    "}, inplace=True)\n",
    "display(df['TransStatus'].value_counts())"
   ],
   "metadata": {
    "collapsed": false,
    "ExecuteTime": {
     "end_time": "2023-08-11T04:16:45.999495800Z",
     "start_time": "2023-08-11T04:16:45.857526500Z"
    }
   }
  },
  {
   "cell_type": "code",
   "execution_count": 21,
   "outputs": [
    {
     "data": {
      "text/plain": "Index(['603880052772', '201110475003', '201110433348', '209080012716',\n       '603750427211', '201020210909', '617520014594', '201110640845',\n       '603750011557', '201110599464', '603870274382', '201010543246',\n       '201110526538', '9516304', '608750019480', '609490059965',\n       '603880608276', '605070000976', '603880291782', '209070678298'],\n      dtype='object', name='fld_CustomerNo')"
     },
     "metadata": {},
     "output_type": "display_data"
    },
    {
     "data": {
      "text/plain": "           TicketNo fld_BranchCode fld_RegionCode fld_AreaCode  \\\n20    61752SG002038          61752             2B          216   \n203   20111SG094315          20111             2B          216   \n286   61458SG004221          61458             2B          216   \n322  20111SG0108668          20111             2B          216   \n394   60388NP001832          60388             2B          216   \n\n                     fld_BranchName  PrincipalAmt            LoanDate  \\\n20                       CLH Tarcan       21000.0 2020-09-08 14:29:00   \n203                   CLH Malolos 2       10755.0 2020-02-05 17:53:00   \n286  CLH Balagtas Saint Anne Square        3430.0 2020-01-03 13:45:00   \n322                   CLH Malolos 2        5500.0 2021-10-15 13:50:00   \n394                   CLH Malolos 1       53431.0 2022-11-02 00:00:00   \n\n                DateCreated ExpiryDate TransStatus  ... fld_StorageGroupID  \\\n20  2020-09-08 14:30:00.000 2021-01-08    Redeemed  ...                  7   \n203 2020-02-05 17:54:00.000 2020-06-05    Redeemed  ...                 13   \n286 2020-01-03 13:45:00.000 2020-05-04        Sold  ...                 13   \n322 2021-10-15 13:53:00.000 2022-02-14  Pulled-Out  ...                 13   \n394 2022-11-02 11:32:51.750 2023-03-03    Redeemed  ...                 13   \n\n    fld_AppraiseValue PromoCode  PromoReason InterestNewPrenda fld_CustomerNo  \\\n20           24075.00    [None]                         840.00   617520014594   \n203          10755.14    RDMCQ1        covid            430.20   201110475003   \n286           3430.00    [None]                         137.20   201110599464   \n322           5500.00     PRD10        4star            220.00   201110433348   \n394          46462.50     PRD15                        2137.24   603880608276   \n\n    new_PTStarRating  fld_FirstName fld_MiddleName fld_LastName  \n20               0.0          GRACE             V.       CASTRO  \n203              0.0        LEONORA       SANTIAGO      BASALLO  \n286              0.0   CZARINA ANNE        ANGELES     ESGUERRA  \n322              4.0         MYLENE        MERCADO      GABRIEL  \n394              4.0      MA RACHEL          MATEO   VALENZUELA  \n\n[5 rows x 26 columns]",
      "text/html": "<div>\n<style scoped>\n    .dataframe tbody tr th:only-of-type {\n        vertical-align: middle;\n    }\n\n    .dataframe tbody tr th {\n        vertical-align: top;\n    }\n\n    .dataframe thead th {\n        text-align: right;\n    }\n</style>\n<table border=\"1\" class=\"dataframe\">\n  <thead>\n    <tr style=\"text-align: right;\">\n      <th></th>\n      <th>TicketNo</th>\n      <th>fld_BranchCode</th>\n      <th>fld_RegionCode</th>\n      <th>fld_AreaCode</th>\n      <th>fld_BranchName</th>\n      <th>PrincipalAmt</th>\n      <th>LoanDate</th>\n      <th>DateCreated</th>\n      <th>ExpiryDate</th>\n      <th>TransStatus</th>\n      <th>...</th>\n      <th>fld_StorageGroupID</th>\n      <th>fld_AppraiseValue</th>\n      <th>PromoCode</th>\n      <th>PromoReason</th>\n      <th>InterestNewPrenda</th>\n      <th>fld_CustomerNo</th>\n      <th>new_PTStarRating</th>\n      <th>fld_FirstName</th>\n      <th>fld_MiddleName</th>\n      <th>fld_LastName</th>\n    </tr>\n  </thead>\n  <tbody>\n    <tr>\n      <th>20</th>\n      <td>61752SG002038</td>\n      <td>61752</td>\n      <td>2B</td>\n      <td>216</td>\n      <td>CLH Tarcan</td>\n      <td>21000.0</td>\n      <td>2020-09-08 14:29:00</td>\n      <td>2020-09-08 14:30:00.000</td>\n      <td>2021-01-08</td>\n      <td>Redeemed</td>\n      <td>...</td>\n      <td>7</td>\n      <td>24075.00</td>\n      <td>[None]</td>\n      <td></td>\n      <td>840.00</td>\n      <td>617520014594</td>\n      <td>0.0</td>\n      <td>GRACE</td>\n      <td>V.</td>\n      <td>CASTRO</td>\n    </tr>\n    <tr>\n      <th>203</th>\n      <td>20111SG094315</td>\n      <td>20111</td>\n      <td>2B</td>\n      <td>216</td>\n      <td>CLH Malolos 2</td>\n      <td>10755.0</td>\n      <td>2020-02-05 17:53:00</td>\n      <td>2020-02-05 17:54:00.000</td>\n      <td>2020-06-05</td>\n      <td>Redeemed</td>\n      <td>...</td>\n      <td>13</td>\n      <td>10755.14</td>\n      <td>RDMCQ1</td>\n      <td>covid</td>\n      <td>430.20</td>\n      <td>201110475003</td>\n      <td>0.0</td>\n      <td>LEONORA</td>\n      <td>SANTIAGO</td>\n      <td>BASALLO</td>\n    </tr>\n    <tr>\n      <th>286</th>\n      <td>61458SG004221</td>\n      <td>61458</td>\n      <td>2B</td>\n      <td>216</td>\n      <td>CLH Balagtas Saint Anne Square</td>\n      <td>3430.0</td>\n      <td>2020-01-03 13:45:00</td>\n      <td>2020-01-03 13:45:00.000</td>\n      <td>2020-05-04</td>\n      <td>Sold</td>\n      <td>...</td>\n      <td>13</td>\n      <td>3430.00</td>\n      <td>[None]</td>\n      <td></td>\n      <td>137.20</td>\n      <td>201110599464</td>\n      <td>0.0</td>\n      <td>CZARINA ANNE</td>\n      <td>ANGELES</td>\n      <td>ESGUERRA</td>\n    </tr>\n    <tr>\n      <th>322</th>\n      <td>20111SG0108668</td>\n      <td>20111</td>\n      <td>2B</td>\n      <td>216</td>\n      <td>CLH Malolos 2</td>\n      <td>5500.0</td>\n      <td>2021-10-15 13:50:00</td>\n      <td>2021-10-15 13:53:00.000</td>\n      <td>2022-02-14</td>\n      <td>Pulled-Out</td>\n      <td>...</td>\n      <td>13</td>\n      <td>5500.00</td>\n      <td>PRD10</td>\n      <td>4star</td>\n      <td>220.00</td>\n      <td>201110433348</td>\n      <td>4.0</td>\n      <td>MYLENE</td>\n      <td>MERCADO</td>\n      <td>GABRIEL</td>\n    </tr>\n    <tr>\n      <th>394</th>\n      <td>60388NP001832</td>\n      <td>60388</td>\n      <td>2B</td>\n      <td>216</td>\n      <td>CLH Malolos 1</td>\n      <td>53431.0</td>\n      <td>2022-11-02 00:00:00</td>\n      <td>2022-11-02 11:32:51.750</td>\n      <td>2023-03-03</td>\n      <td>Redeemed</td>\n      <td>...</td>\n      <td>13</td>\n      <td>46462.50</td>\n      <td>PRD15</td>\n      <td></td>\n      <td>2137.24</td>\n      <td>603880608276</td>\n      <td>4.0</td>\n      <td>MA RACHEL</td>\n      <td>MATEO</td>\n      <td>VALENZUELA</td>\n    </tr>\n  </tbody>\n</table>\n<p>5 rows × 26 columns</p>\n</div>"
     },
     "metadata": {},
     "output_type": "display_data"
    }
   ],
   "source": [
    "# Top Clients\n",
    "top = df.groupby('fld_CustomerNo').size().sort_values(ascending=False).head(20).index\n",
    "display(top)\n",
    "df = df[df['fld_CustomerNo'].isin(top)]\n",
    "display(df.head())"
   ],
   "metadata": {
    "collapsed": false,
    "ExecuteTime": {
     "end_time": "2023-08-11T04:16:46.238662700Z",
     "start_time": "2023-08-11T04:16:45.989639700Z"
    }
   }
  },
  {
   "cell_type": "code",
   "execution_count": 22,
   "outputs": [],
   "source": [
    "import pyarrow as pa\n",
    "import pyarrow.parquet as pq\n",
    "\n",
    "table = pa.Table.from_pandas(df)\n",
    "pq.write_table(table, r'..\\Data\\Np_cleaned.parquet')\n",
    "\n"
   ],
   "metadata": {
    "collapsed": false,
    "ExecuteTime": {
     "end_time": "2023-08-11T04:16:46.274349700Z",
     "start_time": "2023-08-11T04:16:46.222432Z"
    }
   }
  },
  {
   "cell_type": "code",
   "execution_count": 22,
   "outputs": [],
   "source": [],
   "metadata": {
    "collapsed": false,
    "ExecuteTime": {
     "end_time": "2023-08-11T04:16:46.367957300Z",
     "start_time": "2023-08-11T04:16:46.271356Z"
    }
   }
  }
 ],
 "metadata": {
  "kernelspec": {
   "display_name": "Python 3",
   "language": "python",
   "name": "python3"
  },
  "language_info": {
   "codemirror_mode": {
    "name": "ipython",
    "version": 2
   },
   "file_extension": ".py",
   "mimetype": "text/x-python",
   "name": "python",
   "nbconvert_exporter": "python",
   "pygments_lexer": "ipython2",
   "version": "2.7.6"
  }
 },
 "nbformat": 4,
 "nbformat_minor": 0
}
